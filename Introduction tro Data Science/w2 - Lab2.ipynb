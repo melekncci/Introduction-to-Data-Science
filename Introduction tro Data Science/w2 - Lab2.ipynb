{
 "cells": [
  {
   "cell_type": "markdown",
   "metadata": {},
   "source": [
    "# Part 1: Lists\n",
    "\n",
    "## Question 1.1\n"
   ]
  },
  {
   "cell_type": "markdown",
   "metadata": {},
   "source": [
    "Write a program that calculates the average (or mean) of the values of a given list `lst` (suppose that the list is already given to you).<br>\n",
    "Note that there exist a built-in Python function `sum(...)` that directly computes the sum of the values of a list. We could use it to compute the average as shown in the example below. However, in this question, you are asked to code it by yourself (using a loop) without using the built-in `sum(...)` function."
   ]
  },
  {
   "cell_type": "code",
   "execution_count": null,
   "outputs": [],
   "source": [
    "#MELEK İNCİ"
   ],
   "metadata": {
    "collapsed": false
   }
  },
  {
   "cell_type": "code",
   "execution_count": 1,
   "metadata": {
    "ExecuteTime": {
     "end_time": "2023-09-11T19:34:31.576350700Z",
     "start_time": "2023-09-11T19:34:31.571312400Z"
    }
   },
   "outputs": [
    {
     "name": "stdout",
     "output_type": "stream",
     "text": [
      "12.0\n"
     ]
    }
   ],
   "source": [
    "lst = [9, 3, 7, 10, 5, 38]  # list given to you\n",
    "\n",
    "result = sum(lst) / len(lst)\n",
    "print(result)"
   ]
  },
  {
   "cell_type": "code",
   "execution_count": 1,
   "metadata": {
    "ExecuteTime": {
     "end_time": "2023-09-11T18:45:18.943995900Z",
     "start_time": "2023-09-11T18:45:18.939273800Z"
    }
   },
   "outputs": [
    {
     "name": "stdout",
     "output_type": "stream",
     "text": [
      "12.0\n"
     ]
    }
   ],
   "source": [
    "lst = [9, 3, 7, 10, 5, 38]  # list given to you\n",
    "sum=0\n",
    "for i in lst:\n",
    "  sum=sum+i\n",
    "print(sum/len(lst))"
   ]
  },
  {
   "cell_type": "markdown",
   "metadata": {},
   "source": [
    "## Question 1.2\n",
    "Write a program that allows the user to continuously enter numbers with the keyboard. Each time the user enters a number $x$, the program should compute $f(x) = -2 x$ and save it in a list. The program should stop and display the resulting list when the user finally enters `stop` instead of a number. \n",
    "\n",
    "Here is an example:<br>\n",
    "```\n",
    "Enter a number: 5\n",
    "Enter a number: 3\n",
    "Enter a number: -4\n",
    "Enter a number: 1\n",
    "Enter a number: stop\n",
    "Result:  [-10, -6, 8, -2]\n",
    "```"
   ]
  },
  {
   "cell_type": "code",
   "execution_count": 14,
   "metadata": {
    "ExecuteTime": {
     "end_time": "2023-09-11T19:57:23.908377500Z",
     "start_time": "2023-09-11T19:57:17.395966600Z"
    }
   },
   "outputs": [
    {
     "name": "stdout",
     "output_type": "stream",
     "text": [
      "Result: [10.0, -0.0, -2.0]\n"
     ]
    }
   ],
   "source": [
    "results = []\n",
    "while True:\n",
    "    try:\n",
    "        user_input = input(\"enter a number or 'stop' to end: \")\n",
    "        if user_input.lower() == 'stop':\n",
    "            break\n",
    "\n",
    "        x = float(user_input)\n",
    "        fx = -2 * x\n",
    "\n",
    "        results.append(fx)\n",
    "    except ValueError:\n",
    "        print(\"invalid input. please enter a number or 'stop'.\")\n",
    "\n",
    "print(\"Result:\", results)\n"
   ]
  },
  {
   "cell_type": "markdown",
   "metadata": {},
   "source": [
    "## Question 1.3\n",
    "You are given two lists `A` and `B` of the same length. Write a program that calculates the dot product of `A` and `B`. The dot product is a single value computed by multiplying each element $a_i$ of `A` with the corresponding element $b_i$ of `B`, then summing the result. For example, if `A = [3, 5, 2, 6]` and `B = [1, 10, 2, 7]`, then the dot product is computed as: `3*1 + 5*10 + 2*2 + 6*7`"
   ]
  },
  {
   "cell_type": "code",
   "execution_count": 14,
   "metadata": {
    "ExecuteTime": {
     "end_time": "2023-09-11T18:56:10.594810200Z",
     "start_time": "2023-09-11T18:56:10.581996Z"
    }
   },
   "outputs": [
    {
     "name": "stdout",
     "output_type": "stream",
     "text": [
      "dot product: 99\n"
     ]
    }
   ],
   "source": [
    "# TODO: complete the code below\n",
    "\n",
    "A = [3, 5, 2, 6]\n",
    "B = [1, 10, 2, 7]\n",
    "\n",
    "product = 0\n",
    "\n",
    "if len(A) == len(B):\n",
    "    for i in range(len(A)):\n",
    "        product += A[i] * B[i]\n",
    "\n",
    "    print(\"dot product:\", product)\n",
    "else:\n",
    "    print(\"A and B must have same length to calculate dot product. try again\")"
   ]
  },
  {
   "cell_type": "markdown",
   "metadata": {},
   "source": [
    "## Question 1.4\n"
   ]
  },
  {
   "cell_type": "markdown",
   "metadata": {},
   "source": [
    "Write a program allowing the teacher to enter the grades of a class. Once this is done, the program should count the number of grades that are larger than the class average.<br>\n",
    "Note 1: for simplicity, we suppose that the class contains 5 students, and the grades are between 0 and 10.<br>\n",
    "Note 2: you can use the built-in function `sum(...)` if you want to.\n",
    "\n",
    "Here is an example:\n",
    "```\n",
    "Enter a grade: 6\n",
    "Enter a grade: 7\n",
    "Enter a grade: 2\n",
    "Enter a grade: 4\n",
    "Enter a grade: 9\n",
    "Gardes: [6.0, 7.0, 2.0, 4.0, 9.0]\n",
    "Average grade: 5.6\n",
    "The number of gardes larger than the average is 3\n",
    "```"
   ]
  },
  {
   "cell_type": "code",
   "execution_count": 21,
   "metadata": {
    "ExecuteTime": {
     "end_time": "2023-09-11T20:11:12.204868500Z",
     "start_time": "2023-09-11T20:10:55.163995200Z"
    }
   },
   "outputs": [
    {
     "name": "stdout",
     "output_type": "stream",
     "text": [
      "invalid input. please enter a valid number.\n",
      "invalid input. please enter a valid number.\n",
      "invalid grade. grade should be between 0 and 10.\n",
      "grades: [4.0, 5.0, 3.0, 2.0, 5.0]\n",
      "average grade: 3.8\n",
      "the number of grades larger than the average is 3\n"
     ]
    }
   ],
   "source": [
    " grades = []\n",
    "num_students = 5\n",
    "while len(grades) < num_students:\n",
    "    try:\n",
    "        grade = float(input(\"enter a grade (between 0 and 10): \"))\n",
    "        if 0 <= grade <= 10:\n",
    "            grades.append(grade)\n",
    "        else:\n",
    "            print(\"invalid grade. grade should be between 0 and 10.\")\n",
    "    except ValueError:\n",
    "        print(\"invalid input. please enter a valid number.\")\n",
    "\n",
    "if grades:\n",
    "    average_grade = sum(grades) / len(grades)\n",
    "    above_average = sum(1 for grade in grades if grade > average_grade)\n",
    "    print(\"grades:\", grades)\n",
    "    print(\"average grade:\", average_grade)\n",
    "    print(\"the number of grades larger than the average is\", above_average)\n",
    "else:\n",
    "    print(\"no valid grades entered.\")\n",
    "\n"
   ]
  },
  {
   "cell_type": "markdown",
   "metadata": {},
   "source": [
    "3# Part 2: Dictionaries\n",
    "## Question 2.1\n",
    "You are given a list of strings. Write a program that creates a dictionary with each string as a key, and its length as a value.\n",
    "For example, if the list is: <br>\n",
    "`[\"Python\", \"is\", \"a\", \"cool\", \"programming\", \"language\"]` <br>\n",
    "the expected dictionary would be: <br>\n",
    "`{'Python': 6, 'is': 2, 'a': 1, 'cool': 4, 'programming': 11, 'language': 8}`."
   ]
  },
  {
   "cell_type": "code",
   "execution_count": 25,
   "metadata": {
    "ExecuteTime": {
     "end_time": "2023-09-11T19:20:31.739925400Z",
     "start_time": "2023-09-11T19:20:31.712874Z"
    }
   },
   "outputs": [
    {
     "name": "stdout",
     "output_type": "stream",
     "text": [
      "{'Python': 6, 'is': 2, 'a': 1, 'cool': 4, 'programming': 11, 'language': 8}\n"
     ]
    }
   ],
   "source": [
    "# TODO: complete the code below\n",
    "strings = [\"Python\", \"is\", \"a\", \"cool\", \"programming\", \"language\"]\n",
    "\n",
    "string_lengths = {}\n",
    "for string in strings:\n",
    "    string_lengths[string] = len(string)\n",
    "print(string_lengths)\n"
   ]
  },
  {
   "cell_type": "markdown",
   "metadata": {},
   "source": [
    "## Question 2.2\n",
    "Create a dictionary that maps each employee name (key) to the corresponding department name (value), according to the following table. Then, perform the following operations:\n",
    "- Add \"Alice\" to \"Customer Service\" department\n",
    "- \"Kevin\" moves from \"Customer Service\" to \"R&D\"\n",
    "- Remove \"Ray\" from the dictionary\n",
    "\n",
    "| Employee | Department |\n",
    "| -------- | ---------  |\n",
    "| Peter    | Sales      |\n",
    "| Mary     | Sales      |\n",
    "| Linda    | R&D        |\n",
    "| Kevin    | Customer Service |\n",
    "| Jack     | Customer Service |\n",
    "| Ray      | Customer Service |\n",
    "\n"
   ]
  },
  {
   "cell_type": "code",
   "execution_count": 26,
   "metadata": {
    "ExecuteTime": {
     "end_time": "2023-09-11T19:24:23.763642700Z",
     "start_time": "2023-09-11T19:24:23.751154900Z"
    }
   },
   "outputs": [
    {
     "name": "stdout",
     "output_type": "stream",
     "text": [
      "{'peter': 'sales', 'mary': 'sales', 'linda': 'R&D', 'kevin': 'R&D', 'jack': 'customer service', 'alice': 'customer service'}\n"
     ]
    }
   ],
   "source": [
    "company = {\n",
    "    \"peter\": \"sales\",\n",
    "    \"mary\": \"sales\",\n",
    "    \"linda\": \"R&D\",\n",
    "    \"kevin\": \"customer service\",\n",
    "    \"jack\": \"customer service\",\n",
    "    \"ray\": \"customer service\"\n",
    "}\n",
    "\n",
    "company[\"alice\"] = \"customer service\"\n",
    "company[\"kevin\"] = \"R&D\"\n",
    "\n",
    "del company[\"ray\"]\n",
    "\n",
    "print(company)\n"
   ]
  },
  {
   "cell_type": "markdown",
   "metadata": {},
   "source": [
    "## Question 2.3\n",
    "- You are given a dictionary called `info`. \n",
    "- First, write a code that asks the user to enter 3 keys that should be saved in a list called `keys_to_remove`. Note that the user is free to input keys that already exist in `info` or not.\n",
    "- Then, write a code that deletes entries corresponding to `keys_to_remove` from the dictionary `info` (if they exist in the dictionary)."
   ]
  },
  {
   "cell_type": "code",
   "execution_count": 29,
   "metadata": {
    "ExecuteTime": {
     "end_time": "2023-09-11T19:26:56.959915600Z",
     "start_time": "2023-09-11T19:26:52.913945400Z"
    }
   },
   "outputs": [
    {
     "name": "stdout",
     "output_type": "stream",
     "text": [
      "updated info dictionary:\n",
      "{'married': True, 'city': 'Gothenburg', 'country': 'Sweden'}\n"
     ]
    }
   ],
   "source": [
    "# This is an example dictionary, feel free to change it if you want\n",
    "info = {\n",
    "    \"name\": \"Lisa\", \n",
    "    \"age\": 29, \n",
    "    \"salary\": 46000, \n",
    "    \"married\": True, \n",
    "    \"city\": \"Gothenburg\", \n",
    "    \"country\": \"Sweden\", \n",
    "}\n",
    "\n",
    "# TODO: ask the user to enter 3 keys that you should save in a list called keys_to_remove\n",
    "keys_to_remove = []\n",
    "for i in range(3):\n",
    "    key = input(f\"enter key {i + 1} to remove: \")\n",
    "    keys_to_remove.append(key)\n",
    "for key in keys_to_remove:\n",
    "    if key in info:\n",
    "        del info[key]\n",
    "\n",
    "print(\"updated info dictionary:\")\n",
    "print(info)\n",
    "\n",
    "\n",
    "# TODO: remove entries corresponding to keys_to_remove from info\n",
    "# i deleted name age and salary\n",
    "\n"
   ]
  },
  {
   "cell_type": "markdown",
   "metadata": {},
   "source": [
    "## Question 2.4\n",
    "\n",
    "You are given a dictionary `dico` that maps each student name (key) to the list of his/her grades (value). Write a program to:\n",
    "- create a new dictionary `new_dico` containing for each student: the student average grade as a key, and the student name as a value.\n",
    "- find the name of the best student (having the largest average grade) using `new_dico`.\n",
    "- display the list of grades of the best student (from `dico`).\n",
    "\n",
    "Note: you are allowed to use Python built-in functions such as `sum(...)` and `max(...)` if needed.<br>\n",
    "Here is an example of the expected output for the example dictionary given below:\n",
    "```\n",
    "new_dico is {7.5: 'Mark', 7.0: 'Alice', 4.75: 'Bob', 8.0: 'Maja', 7.25: 'Mohamed'}\n",
    "The best student is Maja\n",
    "The grades of Maja are: [8, 9, 7, 8]\n",
    "```"
   ]
  },
  {
   "cell_type": "code",
   "execution_count": 3,
   "metadata": {
    "ExecuteTime": {
     "end_time": "2023-09-11T19:40:43.074333300Z",
     "start_time": "2023-09-11T19:40:43.067334700Z"
    }
   },
   "outputs": [
    {
     "name": "stdout",
     "output_type": "stream",
     "text": [
      "new_dico is: {7.5: 'Mark', 7.0: 'Alice', 4.75: 'Bob', 8.0: 'Maja', 7.25: 'Mohamed'}\n",
      "The best student is Maja\n",
      "The grades of Maja are: [8, 9, 7, 8]\n"
     ]
    }
   ],
   "source": [
    "dico = {\n",
    "    \"Mark\": [6, 7, 9, 8], \n",
    "    \"Alice\": [6, 9, 6, 7], \n",
    "    \"Bob\": [3, 7, 4, 5], \n",
    "    \"Maja\": [8, 9, 7, 8], \n",
    "    \"Mohamed\": [7, 5, 8, 9]\n",
    "}\n",
    "\n",
    "\n",
    "# TODO: create the new dictionary new_dico (keys are floats, and values are strings)\n",
    "new_dico = {}\n",
    "for name, grades_list in dico.items():\n",
    "    average_grade = sum(grades_list) / len(grades_list)\n",
    "    new_dico[average_grade] = name\n",
    "\n",
    "best_average = max(new_dico.keys())\n",
    "best_student = new_dico[best_average]\n",
    "best_student_grades = dico[best_student]\n",
    "\n",
    "print(\"new_dico is:\", new_dico)\n",
    "print(\"The best student is\", best_student)\n",
    "print(\"The grades of\", best_student, \"are:\", best_student_grades)\n",
    "\n",
    "# TODO: find the name of the best student (having the best average grade)\n",
    "# ...\n",
    "\n",
    "\n",
    "# TODO: display list of grades of the best student (from dico)\n",
    "# ...\n",
    "\n"
   ]
  },
  {
   "cell_type": "code",
   "execution_count": null,
   "outputs": [],
   "source": [
    "#MELEK İNCİ "
   ],
   "metadata": {
    "collapsed": false
   }
  }
 ],
 "metadata": {
  "kernelspec": {
   "display_name": "Python 3 (ipykernel)",
   "language": "python",
   "name": "python3"
  },
  "language_info": {
   "codemirror_mode": {
    "name": "ipython",
    "version": 3
   },
   "file_extension": ".py",
   "mimetype": "text/x-python",
   "name": "python",
   "nbconvert_exporter": "python",
   "pygments_lexer": "ipython3",
   "version": "3.9.13"
  }
 },
 "nbformat": 4,
 "nbformat_minor": 2
}
