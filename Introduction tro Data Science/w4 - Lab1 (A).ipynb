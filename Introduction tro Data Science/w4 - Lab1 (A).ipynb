{
 "cells": [
  {
   "cell_type": "markdown",
   "id": "ccf6d7ef",
   "metadata": {},
   "source": [
    "### Dice Roll Simulator with OOP\n",
    "\n",
    "The goal is to create a Dice Roll Simulator using Object-Oriented Programming (OOP) principles. The simulator should repeatedly roll `n` (two or more) dice until one of the following conditions is met: either getting the same number on all dice or the user decides not to roll again.\n",
    "\n",
    "Note: In English, the word **dice** is the plural form of a single **die**.\n",
    "\n",
    "*1) Create a Dice Class* <br />\n",
    "Start by creating a `Die` class that represents a single die. It should have an attribute to store its current value and a method to roll the die, updating its value to a random number between 1 and 6. <br />\n",
    "Note: you can generate a random integer number between `a` and `b` with the function `random.randint(a, b)`."
   ]
  },
  {
   "cell_type": "code",
   "execution_count": 2,
   "id": "97207f7b",
   "metadata": {
    "ExecuteTime": {
     "end_time": "2023-09-25T18:55:52.439889500Z",
     "start_time": "2023-09-25T18:55:47.133240400Z"
    }
   },
   "outputs": [
    {
     "name": "stdout",
     "output_type": "stream",
     "text": [
      "values: [5, 3]\n",
      "values: [1, 5]\n",
      "values: [2, 6]\n",
      "values: [2, 2]\n",
      "You got the same number on all 2 dice.\n"
     ]
    }
   ],
   "source": [
    "import random\n",
    "\n",
    "class Die:\n",
    "    # TODO: Implement the Die class here\n",
    "    def __init__(self):\n",
    "        self.value = 1  \n",
    "\n",
    "    def roll(self):\n",
    "        self.value = random.randint(1, 6)  \n",
    "\n",
    "class DiceSimulator:\n",
    "    def __init__(self, num_dice):\n",
    "        self.dice = [Die() for _ in range(num_dice)]  \n",
    "        self.num_dice = num_dice\n",
    "\n",
    "    def roll_all_dice(self):\n",
    "        for die in self.dice:\n",
    "            die.roll()\n",
    "\n",
    "    def display_dice_values(self):\n",
    "        values = [die.value for die in self.dice]\n",
    "        print(\"values:\", values)\n",
    "\n",
    "    def run_simulation(self):\n",
    "        while True:\n",
    "            self.roll_all_dice()\n",
    "            self.display_dice_values()\n",
    "\n",
    "            if all(die.value == self.dice[0].value for die in self.dice):\n",
    "                print(f\"you got the same number on all {self.num_dice} dice.\")\n",
    "                break\n",
    "\n",
    "            choice = input(\"do you want again?: \").strip().lower()    #say yes or no\n",
    "            if choice != \"yes\":\n",
    "                break\n",
    "\n",
    "if __name__ == \"__main__\":\n",
    "    num_dice = int(input(\"enter number of dice to roll: \"))\n",
    "    simulator = DiceSimulator(num_dice)\n",
    "    simulator.run_simulation()"
   ]
  },
  {
   "cell_type": "markdown",
   "id": "e7a337de",
   "metadata": {},
   "source": [
    "*2) Create a DiceRoller Class* <br />\n",
    "Next, create a `DiceRoller` class that will handle rolling `n` dice (where `n` is an argument to the constructor of the class, with a default value of `n=2`). In this class you should implement the following methods:\n",
    "- a method to roll all the dice,\n",
    "- a method to check if all dice have the same value or not, \n",
    "- and a method to play: rolling the dice, then checking the stopping conditions (either winning by getting the same value on all dice, or the user decides not to roll again). You also display the number of attempts (rolls) the user had before winning."
   ]
  },
  {
   "cell_type": "code",
   "execution_count": 5,
   "id": "943a47bf",
   "metadata": {
    "ExecuteTime": {
     "end_time": "2023-09-25T19:02:41.123375200Z",
     "start_time": "2023-09-25T19:00:06.158205700Z"
    }
   },
   "outputs": [
    {
     "name": "stdout",
     "output_type": "stream",
     "text": [
      "attempt 1:\n",
      "die 1: 1\n",
      "die 2: 2\n",
      "attempt 2:\n",
      "die 1: 2\n",
      "die 2: 4\n",
      "attempt 3:\n",
      "die 1: 5\n",
      "die 2: 6\n",
      "attempt 4:\n",
      "die 1: 2\n",
      "die 2: 4\n",
      "attempt 5:\n",
      "die 1: 4\n",
      "die 2: 6\n",
      "attempt 6:\n",
      "die 1: 4\n",
      "die 2: 3\n",
      "attempt 7:\n",
      "die 1: 3\n",
      "die 2: 6\n",
      "attempt 8:\n",
      "die 1: 3\n",
      "die 2: 5\n",
      "attempt 9:\n",
      "die 1: 5\n",
      "die 2: 1\n",
      "attempt 10:\n",
      "die 1: 6\n",
      "die 2: 5\n",
      "attempt 11:\n",
      "die 1: 2\n",
      "die 2: 2\n",
      "you got the same number on all 2 dice.\n",
      "number of attempts: 11\n"
     ]
    }
   ],
   "source": [
    "class DiceRoller:\n",
    "    # TODO: Implement the DiceRoller class here\n",
    "\n",
    "    def __init__(self, num_dice=2):\n",
    "        self.num_dice = num_dice\n",
    "        self.dice = [Die() for _ in range(num_dice)] \n",
    "        self.attempts = 0\n",
    "\n",
    "    def roll_all_dice(self):\n",
    "        for die in self.dice:\n",
    "            die.roll()\n",
    "\n",
    "    def all_dice_have_same_value(self):\n",
    "        return all(die.value == self.dice[0].value for die in self.dice)\n",
    "\n",
    "    def play(self):\n",
    "        while True:\n",
    "            self.attempts += 1\n",
    "            self.roll_all_dice()\n",
    "            print(f\"attempt {self.attempts}:\")\n",
    "            for i, die in enumerate(self.dice):\n",
    "                print(f\"die {i + 1}: {die.value}\")\n",
    "            \n",
    "            if self.all_dice_have_same_value():\n",
    "                print(f\"you got the same number on all {self.num_dice} dice.\")\n",
    "                print(f\"number of attempts: {self.attempts}\")\n",
    "                break\n",
    "\n",
    "            choice = input(\"roll again? \").strip().lower()\n",
    "            if choice != \"yes\":\n",
    "                break\n",
    "\n",
    "if __name__ == \"__main__\":\n",
    "    num_dice = int(input(\"enter the number of dice to roll: \"))  #default is 2\n",
    "    roller = DiceRoller(num_dice)\n",
    "    roller.play()\n",
    "\n",
    "    "
   ]
  },
  {
   "cell_type": "markdown",
   "id": "40ab8d03",
   "metadata": {},
   "source": [
    "*3) Write the main program* <br />\n",
    "In the cell below, you should first ask the user to input the number of dice to use in the game (two or more). As long as the user enters an invalid number (e.g. 1, or 0) then the program should again ask the user to enter a valid number of dice (larger than or equal to 2). Then you should instanciate the `DiceRoller` class (i.e., create an object `dice_roller` of type `DiceRoller`)."
   ]
  },
  {
   "cell_type": "code",
   "execution_count": 7,
   "id": "68ffdc19",
   "metadata": {
    "ExecuteTime": {
     "end_time": "2023-09-25T19:04:32.378015600Z",
     "start_time": "2023-09-25T19:04:25.350906100Z"
    }
   },
   "outputs": [
    {
     "name": "stdout",
     "output_type": "stream",
     "text": [
      "invalid input. try again.\n",
      "attempt 1:\n",
      "die 1: 1\n",
      "die 2: 2\n",
      "die 3: 5\n",
      "die 4: 1\n",
      "die 5: 1\n",
      "attempt 2:\n",
      "die 1: 1\n",
      "die 2: 6\n",
      "die 3: 5\n",
      "die 4: 1\n",
      "die 5: 1\n"
     ]
    }
   ],
   "source": [
    "def get_valid_num_dice():\n",
    "    while True:\n",
    "        try:\n",
    "            num_dice = int(input(\"enter number of dice to use: \"))\n",
    "            if num_dice >= 2:\n",
    "                return num_dice\n",
    "            else:\n",
    "                print(\"invalid input. try again.\")\n",
    "        except ValueError:\n",
    "            print(\"invalid input. try again.\")\n",
    "\n",
    "if __name__ == \"__main__\":\n",
    "    num_dice = get_valid_num_dice()\n",
    "    dice_roller = DiceRoller(num_dice)\n",
    "    dice_roller.play()\n"
   ]
  },
  {
   "cell_type": "markdown",
   "id": "f8562b34",
   "metadata": {},
   "source": [
    "Next, you play by calling the play method. Here are two examples showing the expected behaviour (when the number of dice used is 2) : <br /><img src=\"example.png\">"
   ]
  },
  {
   "cell_type": "code",
   "execution_count": 15,
   "id": "209ae54f",
   "metadata": {
    "ExecuteTime": {
     "end_time": "2023-09-25T19:18:06.005067500Z",
     "start_time": "2023-09-25T19:18:05.096452300Z"
    }
   },
   "outputs": [
    {
     "name": "stdout",
     "output_type": "stream",
     "text": [
      "welcome to the dice roll simulator!\n",
      "attempt 1:\n",
      "values you got are: [2, 2]\n",
      "******* you won after 1 attempts *******\n"
     ]
    }
   ],
   "source": [
    "class Die:\n",
    "    def __init__(self):\n",
    "        self.value = 1 \n",
    "\n",
    "    def roll(self):\n",
    "        self.value = random.randint(1, 6) \n",
    "\n",
    "class DiceRoller:\n",
    "    def __init__(self, num_dice=2):\n",
    "        self.num_dice = num_dice\n",
    "        self.dice = [Die() for _ in range(num_dice)]  \n",
    "        self.attempts = 0\n",
    "\n",
    "    def roll_all_dice(self):\n",
    "        for die in self.dice:\n",
    "            die.roll()\n",
    "\n",
    "    def all_dice_have_same_value(self):\n",
    "        return all(die.value == self.dice[0].value for die in self.dice)\n",
    "    def play(self):\n",
    "        print(\"welcome to the dice roll simulator!\")\n",
    "        while True:\n",
    "            self.attempts += 1\n",
    "            self.roll_all_dice()\n",
    "            print(f\"attempt {self.attempts}:\")\n",
    "            print(\"values you got are:\", [die.value for die in self.dice])\n",
    "            \n",
    "            if self.all_dice_have_same_value():\n",
    "                print(f\"******* you won after {self.attempts} attempts *******\")\n",
    "                break\n",
    "\n",
    "            choice = input(\"roll the dice again? \").strip().lower()\n",
    "            if choice != \"yes\":\n",
    "                break\n",
    "\n",
    "if __name__ == \"__main__\":\n",
    "    num_dice = get_valid_num_dice()\n",
    "    dice_roller = DiceRoller(num_dice)\n",
    "    dice_roller.play()\n"
   ]
  },
  {
   "cell_type": "markdown",
   "id": "d03e2674",
   "metadata": {},
   "source": [
    "Re-play by calling the play method again. You should **not** re-instanciate the `DiceRoller` class. Just use the already existing object `dice_roller`."
   ]
  },
  {
   "cell_type": "code",
   "execution_count": null,
   "id": "b5e6b30b",
   "metadata": {},
   "outputs": [],
   "source": [
    "# Play again\n",
    "# dice_roller.play()"
   ]
  },
  {
   "cell_type": "code",
   "execution_count": 16,
   "id": "cfdb9446",
   "metadata": {
    "ExecuteTime": {
     "end_time": "2023-09-25T19:19:03.857594800Z",
     "start_time": "2023-09-25T19:18:43.200197600Z"
    }
   },
   "outputs": [
    {
     "name": "stdout",
     "output_type": "stream",
     "text": [
      "welcome to the dice roll simulator!\n",
      "attempt 1:\n",
      "values you got are: [3, 1]\n",
      "attempt 2:\n",
      "values you got are: [5, 3]\n",
      "attempt 3:\n",
      "values you got are: [3, 4]\n",
      "attempt 4:\n",
      "values you got are: [2, 1]\n",
      "attempt 5:\n",
      "values you got are: [6, 1]\n",
      "attempt 6:\n",
      "values you got are: [1, 2]\n",
      "attempt 7:\n",
      "values you got are: [5, 5]\n",
      "******* you won after 7 attempts *******\n",
      "welcome to the dice roll simulator!\n",
      "attempt 8:\n",
      "values you got are: [1, 6]\n",
      "attempt 9:\n",
      "values you got are: [4, 2]\n"
     ]
    }
   ],
   "source": [
    "if __name__ == \"__main__\":\n",
    "    num_dice = get_valid_num_dice()\n",
    "    dice_roller = DiceRoller(num_dice)\n",
    "    \n",
    "    while True:\n",
    "        dice_roller.play()\n",
    "        \n",
    "        choice = input(\"play again with the same dice? \").strip().lower()\n",
    "        if choice != \"yes\":\n",
    "            break"
   ]
  },
  {
   "cell_type": "code",
   "execution_count": null,
   "id": "5cedad5b",
   "metadata": {},
   "outputs": [],
   "source": []
  }
 ],
 "metadata": {
  "kernelspec": {
   "display_name": "Python 3 (ipykernel)",
   "language": "python",
   "name": "python3"
  },
  "language_info": {
   "codemirror_mode": {
    "name": "ipython",
    "version": 3
   },
   "file_extension": ".py",
   "mimetype": "text/x-python",
   "name": "python",
   "nbconvert_exporter": "python",
   "pygments_lexer": "ipython3",
   "version": "3.9.13"
  }
 },
 "nbformat": 4,
 "nbformat_minor": 5
}
