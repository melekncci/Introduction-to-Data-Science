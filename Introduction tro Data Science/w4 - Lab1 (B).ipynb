{
 "cells": [
  {
   "cell_type": "markdown",
   "id": "ddb07d2d",
   "metadata": {},
   "source": [
    "### Vehicles - Object-Oriented Programming (OOP)\n",
    "\n",
    "Create a class in Python called `Vehicle`. Each instance of this class has the following attributes:\n",
    "- name\n",
    "- brand\n",
    "- color\n",
    "- year\n",
    "\n",
    "and the following methods:\n",
    "- _change_color(new_color)_: change the original color with _new_color_\n",
    "- get_description(): returns a string like this for example `\"Name: Rio, Brand: Kia, Color: White, Year: 2016\"`."
   ]
  },
  {
   "cell_type": "code",
   "execution_count": 2,
   "id": "c5a73b63",
   "metadata": {
    "ExecuteTime": {
     "end_time": "2023-09-25T19:22:32.839454200Z",
     "start_time": "2023-09-25T19:22:32.829945700Z"
    }
   },
   "outputs": [
    {
     "name": "stdout",
     "output_type": "stream",
     "text": [
      "name: x, brand: bmw, color: blue, year: 2020\n",
      "name: x, brand: bmw, color: black, year: 2020\n"
     ]
    }
   ],
   "source": [
    "class Vehicle:\n",
    "    # TODO: Implement the Vehicle class here\n",
    "    def __init__(self, name, brand, color, year):\n",
    "        self.name = name\n",
    "        self.brand = brand\n",
    "        self.color = color\n",
    "        self.year = year\n",
    "\n",
    "    def change_color(self, new_color):\n",
    "        self.color = new_color\n",
    "\n",
    "    def get_description(self):\n",
    "        return f\"name: {self.name}, brand: {self.brand}, color: {self.color}, year: {self.year}\"\n",
    "\n",
    "# for example\n",
    "my_car = Vehicle(\"x\", \"bmw\", \"blue\", 2020)\n",
    "print(my_car.get_description()) \n",
    "\n",
    "# changing color\n",
    "my_car.change_color(\"black\")\n",
    "print(my_car.get_description())  \n"
   ]
  },
  {
   "cell_type": "markdown",
   "id": "65de98d0",
   "metadata": {},
   "source": [
    "Now that we have a class for general vehicles we want to implement a subclass that inherits from this one. \n",
    "\n",
    "Implement the subclass _Car_ that inherits all attributes and methods from Vehicles. The class _Car_ has three more attributes:\n",
    "- used: True/False\n",
    "- fuel_consumption: fuel consumption in L/100km\n",
    "- price\n",
    "\n",
    "and two more methods:\n",
    "- _set_new_price(new_price)_: set a new price\n",
    "- _calculate_fuel_(distance): calculate the amount of fuel needed to travel the required distance and return the number of liters. The parameter _distance_ is in km and it is a multiple of 100 (e.g., 200, 600, 1000). Then print a sentence like this \"It needs 10 liters to travel 200 km.\"\n",
    "\n",
    "This class inherites the method `get_description(...)` from the class `Vehicle` and it returns the description of the car with the following format, for example: `\"Name: Rio, Brand: Kia, Color: White, Year: 2016, Used: True, Price: 60000 SEK\"`. Note that you don't have to implement this method again but to inherit it from the class `Vehicle` and add the required information to the returned string. "
   ]
  },
  {
   "cell_type": "code",
   "execution_count": 4,
   "id": "c4d3d53e",
   "metadata": {
    "ExecuteTime": {
     "end_time": "2023-09-25T19:26:13.349735800Z",
     "start_time": "2023-09-25T19:26:13.337453400Z"
    }
   },
   "outputs": [
    {
     "name": "stdout",
     "output_type": "stream",
     "text": [
      "name: x, brand: bmw, color: blue, year: 2020, used or new: used, price: 80000 SEK\n",
      "it needs 0.13 liters to travel 200 km.\n"
     ]
    }
   ],
   "source": [
    "# TODO: Define the Car class here\n",
    "class Car(Vehicle):\n",
    "    def __init__(self, name, brand, color, year, used, fuel_consumption, price):\n",
    "        super().__init__(name, brand, color, year)\n",
    "        self.used = used\n",
    "        self.fuel_consumption = fuel_consumption\n",
    "        self.price = price\n",
    "\n",
    "    def set_new_price(self, new_price):\n",
    "        self.price = new_price\n",
    "\n",
    "    def calculate_fuel(self, distance):\n",
    "        fuel_needed = (distance / 100) * (self.fuel_consumption / 100)\n",
    "        print(f\"it needs {fuel_needed:.2f} liters to travel {distance} km.\")\n",
    "\n",
    "    def get_description(self):\n",
    "        used_status = \"used\" if self.used else \"new\"\n",
    "        return f\"{super().get_description()}, used or new: {used_status}, price: {self.price} SEK\"\n",
    "\n",
    "# for example\n",
    "my_car = Car(\"x\", \"bmw\", \"blue\", 2020, True, 6.5, 80000)\n",
    "print(my_car.get_description())\n",
    "\n",
    "my_car.set_new_price(55000)\n",
    "my_car.calculate_fuel(200)\n",
    "# Output: \"It needs 13.00 liters to travel 200 km.\""
   ]
  },
  {
   "cell_type": "markdown",
   "id": "e76d7728",
   "metadata": {},
   "source": [
    "Now test your code by creating an object corresponding to an instance of `Car`. Then call the various methods to check if it works."
   ]
  },
  {
   "cell_type": "code",
   "execution_count": 6,
   "id": "29b68dfc",
   "metadata": {
    "ExecuteTime": {
     "end_time": "2023-09-25T19:28:59.266489400Z",
     "start_time": "2023-09-25T19:28:59.257871Z"
    }
   },
   "outputs": [
    {
     "name": "stdout",
     "output_type": "stream",
     "text": [
      "name: x, brand: bmw, color: blue, year: 2020, used or new: used, price: 80000 SEK\n",
      "name: x, brand: bmw, color: blue, year: 2020, used or new: used, price: 55000 SEK\n",
      "it needs 0.13 liters to travel 200 km.\n",
      "name: x, brand: bmw, color: white, year: 2020, used or new: used, price: 55000 SEK\n"
     ]
    }
   ],
   "source": [
    "my_car = Car(\"x\", \"bmw\", \"blue\", 2020, True, 6.5, 80000)\n",
    "\n",
    "print(my_car.get_description())\n",
    "my_car.set_new_price(55000)\n",
    "print(my_car.get_description())\n",
    "\n",
    "my_car.calculate_fuel(200)\n",
    "my_car.change_color(\"white\")\n",
    "print(my_car.get_description())\n"
   ]
  },
  {
   "cell_type": "code",
   "execution_count": null,
   "outputs": [],
   "source": [],
   "metadata": {
    "collapsed": false
   },
   "id": "367857aa8cb197c2"
  }
 ],
 "metadata": {
  "kernelspec": {
   "display_name": "Python 3 (ipykernel)",
   "language": "python",
   "name": "python3"
  },
  "language_info": {
   "codemirror_mode": {
    "name": "ipython",
    "version": 3
   },
   "file_extension": ".py",
   "mimetype": "text/x-python",
   "name": "python",
   "nbconvert_exporter": "python",
   "pygments_lexer": "ipython3",
   "version": "3.9.13"
  }
 },
 "nbformat": 4,
 "nbformat_minor": 5
}
