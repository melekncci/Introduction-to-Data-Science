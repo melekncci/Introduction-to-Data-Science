{
  "cells": [
    {
      "cell_type": "markdown",
      "metadata": {
        "id": "EtuqOCFgT_Np"
      },
      "source": [
        "# Part 1: Conditional statements\n",
        "## Question 1.1\n",
        "Take a look at the following code. In the if statement, it starts by testing the condition `(x > y + 4) or (z == \"OK\")` that allows you to increase `x`."
      ]
    },
    {
      "cell_type": "code",
      "execution_count": null,
      "metadata": {
        "colab": {
          "base_uri": "https://localhost:8080/"
        },
        "id": "tXoMUcjdT_Nq",
        "outputId": "024f4e08-f61c-496e-e095-0cda42e9a64b"
      },
      "outputs": [
        {
          "output_type": "stream",
          "name": "stdout",
          "text": [
            "6\n"
          ]
        }
      ],
      "source": [
        "x = 5\n",
        "y = 2\n",
        "z = \"OK\"\n",
        "\n",
        "if (x > y + 4) or (z == \"OK\"):\n",
        "    x = x + 1  # Increasing x by 1\n",
        "else:\n",
        "    x = x - 1  # Decreasing x by 1\n",
        "\n",
        "print(x)"
      ]
    },
    {
      "cell_type": "markdown",
      "metadata": {
        "id": "EoZfyXCaT_Nr"
      },
      "source": [
        "Complete the code below to produce a code equivalent to the previous one; but this time, the code starts by testing the condition that allows you to decrease `x`."
      ]
    },
    {
      "cell_type": "code",
      "execution_count": null,
      "metadata": {
        "colab": {
          "base_uri": "https://localhost:8080/"
        },
        "id": "YWwCdmsuT_Nr",
        "outputId": "d0b2368e-b770-41d2-94a5-9e22c29bb6dd"
      },
      "outputs": [
        {
          "output_type": "stream",
          "name": "stdout",
          "text": [
            "6\n"
          ]
        }
      ],
      "source": [
        "x = 5\n",
        "y = 2\n",
        "z = \"OK\"\n",
        "\n",
        "if (x <= y + 4) and (z != \"OK\"):\n",
        "    x = x - 1  # Decreasing x by 1\n",
        "else:\n",
        "    x = x + 1  # Increasing x by 1\n",
        "\n",
        "print(x)"
      ]
    },
    {
      "cell_type": "markdown",
      "metadata": {
        "id": "Sqv2oz_rT_Ns"
      },
      "source": [
        "## Question 1.2\n",
        "Write a program that asks the user to input the current hour (in a variable $h$) and the minutes (in a variable $m$), and then displays the time it will be one minute later. For example, if the user enters 21 for $h$ and 32 for $m$, the program must respond:\n",
        "`In a minute, it will be 21 hour(s) and 33 minute(s)`.<br>\n",
        "Note: we assume that the user enters a valid time, so no need to check it.\n",
        "Also, note that $0 \\leq h \\leq 23$ and that $0 \\leq m \\leq 59$. So, for example, your program should never display 24 hour(s) or 60 minute(s)."
      ]
    },
    {
      "cell_type": "code",
      "execution_count": null,
      "metadata": {
        "colab": {
          "base_uri": "https://localhost:8080/"
        },
        "id": "dLwtonAyT_Ns",
        "outputId": "34aa4f40-a131-41cf-f707-a5c55d114b25"
      },
      "outputs": [
        {
          "output_type": "stream",
          "name": "stdout",
          "text": [
            "Enter the hour: 3\n",
            "Enter the minutes: 59\n",
            "In a minute, it will be 4 hour(s).\n"
          ]
        }
      ],
      "source": [
        "# TODO: Complete the code below\n",
        "\n",
        "h = int( input(\"Enter the hour: \") )\n",
        "m = int( input(\"Enter the minutes: \") )\n",
        "if m==59:\n",
        "  print(f\"In a minute, it will be {h+1} hour(s).\")\n",
        "else:\n",
        "  print(f\"In a minute, it will be {h} hour(s) and {m+1} minutes.\")\n",
        "# ...\n",
        "# ...\n",
        "# ...\n",
        "\n",
        "#print(f\"In a minute, it will be {h} hour(s) and {m} minute(s)\")"
      ]
    },
    {
      "cell_type": "markdown",
      "metadata": {
        "id": "toHsexO-T_Ns"
      },
      "source": [
        "## Question 1.3\n",
        "Similar to the previous question, this program should ask for the time and display another one. But this time, it must also manage the seconds $s$, and display the time that it will be one second later.\n",
        "For example, if the user enters 21 for $h$, 32 for $m$, and 8 for $s$, the program should respond: `In one second, it will be 21 hour(s), 32 minute(s) and 9 second(s)`."
      ]
    },
    {
      "cell_type": "code",
      "execution_count": null,
      "metadata": {
        "colab": {
          "base_uri": "https://localhost:8080/"
        },
        "id": "Ix8qZewlT_Ns",
        "outputId": "dc35cca0-517b-42cc-fa58-107ed92ce773"
      },
      "outputs": [
        {
          "output_type": "stream",
          "name": "stdout",
          "text": [
            "Enter the hour: 3\n",
            "Enter the minutes: 59\n",
            "Enter the seconds: 59\n",
            "In one second, it will be 4 hour(s), 0 minute(s) and 0 second(s)\n"
          ]
        }
      ],
      "source": [
        "# TODO: Complete the code below\n",
        "\n",
        "h = int( input(\"Enter the hour: \") )\n",
        "m = int( input(\"Enter the minutes: \") )\n",
        "s = int( input(\"Enter the seconds: \") )\n",
        "if s==59:\n",
        "  s=0\n",
        "  m=m+1\n",
        "  if m==60:\n",
        "    m=0\n",
        "    h=h+1\n",
        "  print(f\"In one second, it will be {h} hour(s), {m} minute(s) and {s} second(s)\")\n",
        "else:\n",
        "  s=s+1\n",
        "  print(f\"In one second, it will be {h} hour(s), {m} minute(s) and {s} second(s)\")\n"
      ]
    },
    {
      "cell_type": "markdown",
      "metadata": {
        "id": "N9BqK30tT_Nu"
      },
      "source": [
        "## Question 1.4\n",
        "Inhabitants of Mars pay tax according to the following rules:\n",
        "- Men over 20 years old pay tax\n",
        "- Women pay tax if they are between 18 and 35 years old\n",
        "- Others do not pay tax\n",
        "\n",
        "Your program should therefore ask for the age and sex of the Martian and will then decide whether the inhabitant is taxable or not."
      ]
    },
    {
      "cell_type": "code",
      "execution_count": null,
      "metadata": {
        "colab": {
          "base_uri": "https://localhost:8080/"
        },
        "id": "npAdow0uT_Nu",
        "outputId": "01c402bb-8fcf-4d44-9579-65500e7489f4"
      },
      "outputs": [
        {
          "output_type": "stream",
          "name": "stdout",
          "text": [
            "Please enter your age: 36\n",
            "Please enter your sex: women\n",
            "you dont have to pay tax\n"
          ]
        }
      ],
      "source": [
        "# TODO: your code here\n",
        "age=int(input(\"Please enter your age: \"))\n",
        "sex=(input(\"Please enter your sex: \"))\n",
        "if sex==\"men\":\n",
        "  if age<=20:\n",
        "    print(\"you dont have to pay tax\")\n",
        "  else:\n",
        "    print(\"you have to pay tax\")\n",
        "elif sex==\"women\":\n",
        "  if 18<age<35:\n",
        "    print(\"you have to pay tax\")\n",
        "  else:\n",
        "    print(\"you dont have to pay tax\")\n",
        "else:\n",
        "  print(\"invalid answer. please try again\")"
      ]
    },
    {
      "cell_type": "markdown",
      "metadata": {
        "id": "WehJ8YRvT_Nv"
      },
      "source": [
        "# Part 2: Repetitive statements (loops)\n",
        "\n",
        "## Question 2.1\n",
        "Write a program that asks for a starting number, and then writes the multiplication table of this number, presented as follows (case where the user enters the number 7):\n",
        "\n",
        "    7 x 0 = 0\n",
        "    7 x 1 = 7\n",
        "    ...\n",
        "    7 x 8 = 56\n",
        "    7 x 9 = 63\n"
      ]
    },
    {
      "cell_type": "code",
      "execution_count": null,
      "metadata": {
        "colab": {
          "base_uri": "https://localhost:8080/"
        },
        "id": "8DWEFM1nT_Nv",
        "outputId": "2469e831-497f-4d24-d6c6-3918aba9547f"
      },
      "outputs": [
        {
          "output_type": "stream",
          "name": "stdout",
          "text": [
            "please enter a number: 5\n",
            "5 x 0 = 0\n",
            "5 x 1 = 5\n",
            "5 x 2 = 10\n",
            "5 x 3 = 15\n",
            "5 x 4 = 20\n",
            "5 x 5 = 25\n",
            "5 x 6 = 30\n",
            "5 x 7 = 35\n",
            "5 x 8 = 40\n",
            "5 x 9 = 45\n"
          ]
        }
      ],
      "source": [
        "# TODO: your code here\n",
        "number=int(input(\"please enter a number: \"))\n",
        "for i in range (0,10):\n",
        "  print(f\"{number} x {i} =\" , number*i)\n",
        "\n"
      ]
    },
    {
      "cell_type": "markdown",
      "metadata": {
        "id": "hjGcWB0QT_Nv"
      },
      "source": [
        "## Question 2.2\n",
        "Write a program that asks for a starting number, and calculates its factorial.<br>\n",
        "Note: the factorial of 8 (denoted as 8!) is $1 \\times 2 \\times 3 \\times 4 \\times 5 \\times 6 \\times 7 \\times 8$"
      ]
    },
    {
      "cell_type": "code",
      "execution_count": null,
      "metadata": {
        "colab": {
          "base_uri": "https://localhost:8080/"
        },
        "id": "Srrw4EV8T_Nv",
        "outputId": "96ba9b5a-485e-4521-8246-6c584c0ad46b"
      },
      "outputs": [
        {
          "output_type": "stream",
          "name": "stdout",
          "text": [
            "please enter a number: -4\n",
            "factorial is not defined for negative numbers. please try again.\n"
          ]
        }
      ],
      "source": [
        "number=int(input(\"please enter a number: \"))\n",
        "if number<0:\n",
        "  print(\"factorial is not defined for negative numbers. please try again.\")\n",
        "elif number==0:\n",
        "  print(f\"{number}!=\" , 1)\n",
        "else:\n",
        "  factorial=1\n",
        "  for i in range (1,number+1):\n",
        "   factorial*=i\n",
        "  print(f\"{number}!=\" , factorial)"
      ]
    },
    {
      "cell_type": "markdown",
      "metadata": {
        "id": "sjFGoQPdT_Nv"
      },
      "source": [
        "## Question 2.3\n",
        "Write a program that asks to input two numbers $a$ and $b$, then calculates the sum of all integers between these\n",
        "two numbers.<br>\n",
        "For example, if the user inputs $a=11$ and $b=14$, the program should give $50$ (which is $11+12+13+14$).\n",
        "The program should work even if $a$ is smaller than $b$. For example, if $a=14$ and $b=11$, the program should also display $50$."
      ]
    },
    {
      "cell_type": "code",
      "execution_count": null,
      "metadata": {
        "colab": {
          "base_uri": "https://localhost:8080/"
        },
        "id": "ZqQuv23lT_Nv",
        "outputId": "6f06633e-2c1a-45a8-c09f-6708a020d6e2"
      },
      "outputs": [
        {
          "output_type": "stream",
          "name": "stdout",
          "text": [
            "please enter number a : 5\n",
            "please enter number b: 5\n",
            "0\n"
          ]
        }
      ],
      "source": [
        "from re import I\n",
        "a=int(input(\"please enter number a : \"))\n",
        "b=int(input(\"please enter number b: \"))\n",
        "if a>b:\n",
        "  sum=1\n",
        "  for i in range (a,b+1):\n",
        "    sum+=i\n",
        "  print(\"sum\")\n",
        "elif b<a:\n",
        "  for i in range (b,a+1):\n",
        "    sum+=i\n",
        "  print(\"sum\")\n",
        "else:\n",
        "  print(\"0\")\n",
        "\n"
      ]
    },
    {
      "cell_type": "markdown",
      "metadata": {
        "id": "KmIaHXjOT_Nv"
      },
      "source": [
        "## Question 2.4\n",
        "Write an algorithm that successively asks the user for 20 numbers, and then tells which was the largest among these 20 numbers. Example:\n",
        "\n",
        "```\n",
        "Enter a number: 12\n",
        "Enter a number: 14\n",
        "etc\n",
        "Enter a number: 6\n",
        "The largest of these numbers is: 14\n",
        "```"
      ]
    },
    {
      "cell_type": "code",
      "execution_count": null,
      "metadata": {
        "colab": {
          "base_uri": "https://localhost:8080/"
        },
        "id": "iuuNbGj8T_Nv",
        "outputId": "ba3bbf7f-8449-4795-827e-3782596ec4ea"
      },
      "outputs": [
        {
          "output_type": "stream",
          "name": "stdout",
          "text": [
            "Enter a number: 3\n",
            "Enter a number: 6\n",
            "Enter a number: 7\n",
            "Enter a number: 3\n",
            "Enter a number: -34\n",
            "Enter a number: 4\n",
            "Enter a number: 445\n",
            "Enter a number: 4545\n",
            "Enter a number: 7\n",
            "Enter a number: 4\n",
            "Enter a number: 46\n",
            "Enter a number: 5\n",
            "Enter a number: 7\n",
            "Enter a number: 4\n",
            "Enter a number: 5\n",
            "Enter a number: 4\n",
            "Enter a number: 5\n",
            "Enter a number: 4\n",
            "Enter a number: 6\n",
            "Enter a number: 3\n",
            "The largest number is 4545.0\n"
          ]
        }
      ],
      "source": [
        "largest = float('-inf')\n",
        "for i in range(20):\n",
        "    number = float(input(\"Enter a number: \"))\n",
        "    if number > largest:\n",
        "        largest = number\n",
        "print(f\"The largest number is {largest}\")"
      ]
    },
    {
      "cell_type": "markdown",
      "metadata": {
        "id": "ikNH7j9FT_Nw"
      },
      "source": [
        "## Question 2.5\n",
        "Rewrite the previous program, but this time we do not know in advance how many numbers the user wants to enter. Number entry stops when the user enters a zero."
      ]
    },
    {
      "cell_type": "code",
      "execution_count": null,
      "metadata": {
        "colab": {
          "base_uri": "https://localhost:8080/"
        },
        "id": "Q2EYR9wCT_Nw",
        "outputId": "25173e22-6665-4d48-ba6a-a725c312a1b7"
      },
      "outputs": [
        {
          "name": "stdout",
          "output_type": "stream",
          "text": [
            "please enter a number:5\n",
            "please enter a number:4\n",
            "please enter a number:3\n",
            "please enter a number:6\n",
            "please enter a number:3\n",
            "please enter a number:6\n",
            "please enter a number:43\n",
            "please enter a number:0\n"
          ]
        }
      ],
      "source": [
        "\n",
        "while x!=0:\n",
        "  x=int(input(\"please enter a number:\"))\n",
        "\n"
      ]
    },
    {
      "cell_type": "code",
      "execution_count": null,
      "metadata": {
        "id": "5OJlrPVDT_Nw"
      },
      "outputs": [],
      "source": []
    }
  ],
  "metadata": {
    "kernelspec": {
      "display_name": "Python 3 (ipykernel)",
      "language": "python",
      "name": "python3"
    },
    "language_info": {
      "codemirror_mode": {
        "name": "ipython",
        "version": 3
      },
      "file_extension": ".py",
      "mimetype": "text/x-python",
      "name": "python",
      "nbconvert_exporter": "python",
      "pygments_lexer": "ipython3",
      "version": "3.9.13"
    },
    "colab": {
      "provenance": []
    }
  },
  "nbformat": 4,
  "nbformat_minor": 0
}