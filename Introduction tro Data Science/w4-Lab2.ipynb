{
 "cells": [
  {
   "cell_type": "markdown",
   "metadata": {
    "id": "RNEPDuWxaNYs"
   },
   "source": [
    "# 1. Manipulating numpy arrays\n",
    "Numpy is a Python library which has support for large multi-dimensional arrays and matrices, along with a large collection of high-level mathematical functions to operate on these arrays. It is often the starting point of data pre-processing and implementing basic ML algorithms.\n",
    "\n",
    "### Importing numpy\n",
    "Run the following code to import numpy."
   ]
  },
  {
   "cell_type": "code",
   "execution_count": 1,
   "metadata": {
    "ExecuteTime": {
     "end_time": "2023-09-21T11:01:44.946649900Z",
     "start_time": "2023-09-21T11:01:44.606900500Z"
    },
    "id": "TJHQPsA7aNYu"
   },
   "outputs": [],
   "source": [
    "# First we import the numpy Library and call it np\n",
    "import numpy as np"
   ]
  },
  {
   "cell_type": "markdown",
   "metadata": {
    "id": "TBr1GSy1aNYw"
   },
   "source": [
    "### Creating a one-dimensional array\n",
    "Create a numpy array called `arr` that contains three integer values (this is a one-dimensional array with `len(arr) == 3`), then print its shape."
   ]
  },
  {
   "cell_type": "code",
   "execution_count": 8,
   "metadata": {
    "colab": {
     "base_uri": "https://localhost:8080/"
    },
    "id": "v4ccR_-gaNYw",
    "outputId": "cc9e867d-aba7-4dcf-cfc0-7fc31f565f8d"
   },
   "outputs": [
    {
     "output_type": "stream",
     "name": "stdout",
     "text": [
      "3\n"
     ]
    }
   ],
   "source": [
    "# TODO\n",
    "arr=np.array([3,2,1])\n",
    "print(len(arr))\n",
    "# arr = ...\n",
    "# Display the array ...\n",
    "# Display the shape of the array ..."
   ]
  },
  {
   "cell_type": "markdown",
   "metadata": {
    "id": "QvZEFk3XaNYw"
   },
   "source": [
    "### Creating a two-dimensional array (or matrix)\n",
    "Create a two-dimensional array called `matrix` with 3 rows and 4 columns (the values of this array are also integers), then print its shape."
   ]
  },
  {
   "cell_type": "code",
   "execution_count": 12,
   "metadata": {
    "colab": {
     "base_uri": "https://localhost:8080/"
    },
    "id": "_ryDO6rRaNYw",
    "outputId": "6b33fe5e-f024-4a90-c374-20ed08d13973"
   },
   "outputs": [
    {
     "output_type": "execute_result",
     "data": {
      "text/plain": [
       "(3, 4)"
      ]
     },
     "metadata": {},
     "execution_count": 12
    }
   ],
   "source": [
    "# TODO\n",
    "matrix=np.array([[3,2,3,4],[3,5,5,3],[3,4,5,6]])\n",
    "matrix.shape\n",
    "# matrix = ...\n",
    "# Display the matrix ...\n",
    "# Display the shape of the matrix ..."
   ]
  },
  {
   "cell_type": "markdown",
   "metadata": {
    "id": "Razyvq-haNYy"
   },
   "source": [
    "### Element-wise operations on arrays\n",
    "Using numpy arrays, you can easily perform operations (such as addition, subtraction, multiplication, division, etc.) in an easy way. In the code below, you are given two numpy arrays $u$ and $v$ of the same length, and you are asked to follow the *TODO* comments to perform some operations on these arrays."
   ]
  },
  {
   "cell_type": "code",
   "execution_count": 14,
   "metadata": {
    "colab": {
     "base_uri": "https://localhost:8080/"
    },
    "id": "o_tVO4V6aNYy",
    "outputId": "611922b2-c82d-4eb5-f137-26ea0fe7da7b"
   },
   "outputs": [
    {
     "output_type": "stream",
     "name": "stdout",
     "text": [
      "[ 6  7 14]\n",
      "[ 4 -3  6]\n",
      "[ 5 10 40]\n",
      "[10  4 20]\n",
      "[ 1 25 16]\n"
     ]
    }
   ],
   "source": [
    "u = np.array([5, 2, 10])\n",
    "v = np.array([1, 5, 4])\n",
    "\n",
    "\n",
    "\"\"\" TODO: Addition\n",
    "Compute the addition of the two arrays u and v and print the result.\n",
    "The result should be an array of the same length as u and v.\n",
    "\"\"\"\n",
    "sum=u+v\n",
    "print(sum)\n",
    "\n",
    "\n",
    "\"\"\" TODO: Subtraction\n",
    "Subtract the two arrays u - v and print the result.\n",
    "The result should be an array of the same length as u and v.\n",
    "\"\"\"\n",
    "subs=u-v\n",
    "print(subs)\n",
    "\n",
    "\n",
    "\"\"\" TODO: Multiplication (element-wise)\n",
    "Multiply each element of the 1st array u with the corresponding element of the 2nd array v.\n",
    "The result should be an array of the same length as u and v.\n",
    "\"\"\"\n",
    "multip=u*v\n",
    "print(multip)\n",
    "\n",
    "\n",
    "\"\"\" TODO:\n",
    "Multiply each element of the array u by 2.\n",
    "The result should be an array of the same length as u and v.\n",
    "\"\"\"\n",
    "u_2=2*u\n",
    "\n",
    "print(u_2)\n",
    "\n",
    "\n",
    "\"\"\" TODO:\n",
    "Raise each element of the array v to the power of 2.\n",
    "The result should be an array of the same length as u and v.\n",
    "\"\"\"\n",
    "square=v**2\n",
    "print(square)\n"
   ]
  },
  {
   "cell_type": "markdown",
   "metadata": {
    "id": "Gkc2WbIraNYy"
   },
   "source": [
    "The same kind of operations also work for matricies (represented as two-dimensional numpy arrays). Check and complete the following code for an example."
   ]
  },
  {
   "cell_type": "code",
   "execution_count": 16,
   "metadata": {
    "colab": {
     "base_uri": "https://localhost:8080/"
    },
    "id": "5l2h_3DaaNYy",
    "outputId": "51005341-0a14-4f4c-b165-e48d5548b0b0"
   },
   "outputs": [
    {
     "output_type": "stream",
     "name": "stdout",
     "text": [
      "shape of A: (2, 3) --- shape of B: (2, 3)\n",
      "len of A: 2 --- len of B: 2\n",
      "Addition:\n",
      "[[11 22 33]\n",
      " [44 55 66]]\n",
      "Subtraction:\n",
      "[[ 9 18 27]\n",
      " [36 45 54]]\n",
      "Multiplication:\n",
      "[[ 10  40  90]\n",
      " [160 250 360]]\n",
      "Double the values of A: \n",
      "[[ 20  40  60]\n",
      " [ 80 100 120]]\n",
      "Square the values of B: \n",
      "[[ 1  4  9]\n",
      " [16 25 36]]\n"
     ]
    }
   ],
   "source": [
    "A = np.array([\n",
    "    [10, 20, 30],\n",
    "    [40, 50, 60],\n",
    "])\n",
    "\n",
    "B = np.array([\n",
    "    [1, 2, 3],\n",
    "    [4, 5, 6],\n",
    "])\n",
    "\n",
    "# Here, A and B should have the same shape (number of rows and columns)\n",
    "print(f\"shape of A: {A.shape} --- shape of B: {B.shape}\")\n",
    "print(f\"len of A: {len(A)} --- len of B: {len(B)}\") # Same as the nbr of rows A.shape[0] and A.shape[0]\n",
    "\n",
    "\"\"\" TODO:\n",
    "Compute the following element-wise operations:\n",
    "\"\"\"\n",
    "print(\"Addition:\")\n",
    "print(A+B)\n",
    "\n",
    "print(\"Subtraction:\")\n",
    "print(A-B)\n",
    "\n",
    "print(\"Multiplication:\")\n",
    "print(A*B)\n",
    "\n",
    "print(\"Double the values of A: \")\n",
    "print(A*2)\n",
    "\n",
    "print(\"Square the values of B: \")\n",
    "print(B**2)"
   ]
  },
  {
   "cell_type": "markdown",
   "metadata": {
    "id": "bHCNn-1JaNYz"
   },
   "source": [
    "### Selecting a subset of an array\n",
    "It is sometimes useful to select a subset of a matrix (e.g. some rows and/or some columns based on their indices). Complete the code below to do this.<br>\n",
    "Note: when we say for example: \"*from index 2 to 5*, this refers to the indices 2, 3, 4, 5, so the range is `[2:6]` (since the 6 is excluded)."
   ]
  },
  {
   "cell_type": "code",
   "execution_count": 40,
   "metadata": {
    "colab": {
     "base_uri": "https://localhost:8080/"
    },
    "id": "r08EUrr3aNYz",
    "outputId": "59bb177c-cfba-4a6a-9568-06664b4ffe05"
   },
   "outputs": [
    {
     "output_type": "stream",
     "name": "stdout",
     "text": [
      "Shape of X:  (9, 3)\n",
      "\n",
      " 1. Subset of X with rows from 2 to 5 :\n",
      "[[2 6 7]\n",
      " [3 8 9]\n",
      " [4 2 3]\n",
      " [5 4 5]]\n",
      "\n",
      " 2. Subset of X corresponding to the first three rows :\n",
      "[[0 2 3]\n",
      " [1 4 5]\n",
      " [2 6 7]]\n",
      "\n",
      " 3. Subset of X with rows from 2 to 5, and only columns from 0 to 1 :\n",
      "[[2 6]\n",
      " [3 8]\n",
      " [4 2]\n",
      " [5 4]]\n",
      "\n",
      " 4. Subset of X with rows from 2 to 5, and only column 1 :\n",
      "[6 8 2 4]\n",
      "\n",
      " 5. Subset of X with rows from 2 to 5, and only columns 0 and 2 :\n",
      "[[2 7]\n",
      " [3 9]\n",
      " [4 3]\n",
      " [5 5]]\n",
      "\n",
      " 6. An array from X consisting of all rows, and only column 0 :\n",
      "[0 1 2 3 4 5 6 7 8]\n",
      "\n",
      " 7. An array from X consisting of all rows, and only the last column (index -1) :\n",
      "[3 5 7 9 3 5 7 9 3]\n",
      "\n",
      " 8. An array from X consisting of only row 2, and all columns :\n",
      "[2 6 7]\n",
      "\n",
      " 9. The value from X at row 2 and column 0 :\n",
      "2\n",
      "\n",
      " 10. Subset of X consisting of rows 2, 5 and 7  :\n",
      "[[2 6 7]\n",
      " [5 4 5]\n",
      " [7 8 9]]\n"
     ]
    }
   ],
   "source": [
    "# This is a list of lists\n",
    "X = [[0, 2, 3],\n",
    "     [1, 4, 5],\n",
    "     [2, 6, 7],\n",
    "     [3, 8, 9],\n",
    "     [4, 2, 3],\n",
    "     [5, 4, 5],\n",
    "     [6, 6, 7],\n",
    "     [7, 8, 9],\n",
    "     [8, 2, 3]]\n",
    "\n",
    "# X is now a matrix (or a 2-dimensional numpy array)\n",
    "X = np.array(X)\n",
    "print(\"Shape of X: \", X.shape)\n",
    "\n",
    "\"\"\" TODO:\n",
    "Complete the following to select subsets of X:\n",
    "\"\"\"\n",
    "print(\"\\n 1. Subset of X with rows from 2 to 5 :\")\n",
    "\n",
    "print(X[2:6]) # TODO\n",
    "\n",
    "print(\"\\n 2. Subset of X corresponding to the first three rows :\")\n",
    "print(X[:3] ) # TODO\n",
    "\n",
    "print(\"\\n 3. Subset of X with rows from 2 to 5, and only columns from 0 to 1 :\")\n",
    "print( X[2:6,:2]) # TODO\n",
    "\n",
    "print(\"\\n 4. Subset of X with rows from 2 to 5, and only column 1 :\")\n",
    "print( X[2:6,1] ) # TODO\n",
    "\n",
    "print(\"\\n 5. Subset of X with rows from 2 to 5, and only columns 0 and 2 :\")\n",
    "print( X[2:6,[0,2]], ) # TODO\n",
    "\n",
    "print(\"\\n 6. An array from X consisting of all rows, and only column 0 :\")\n",
    "print( X[0:10,0] ) # TODO\n",
    "\n",
    "print(\"\\n 7. An array from X consisting of all rows, and only the last column (index -1) :\")\n",
    "print(X[0:10,-1] ) # TODO\n",
    "\n",
    "print(\"\\n 8. An array from X consisting of only row 2, and all columns :\")\n",
    "print( X[2,0:10] ) # TODO\n",
    "\n",
    "print(\"\\n 9. The value from X at row 2 and column 0 :\")\n",
    "print(X[2,0] ) # TODO\n",
    "\n",
    "print(\"\\n 10. Subset of X consisting of rows 2, 5 and 7  :\")\n",
    "print( X[[2,5,7],0:10] ) # TODO\n"
   ]
  },
  {
   "cell_type": "markdown",
   "metadata": {
    "id": "C5tDD2OGaNYz"
   },
   "source": [
    "### max, min, mean, std, median, ...\n",
    "Numpy offers several useful functions such as `np.min(...), np.max(...), np.mean(...), np.std(...), np.median(...)` etc. For example, `np.max(M)` would compute the maximum among all the values in the array `M`. If `M` is a two-dimensional array (matrix), then `np.max(M, axis=0)` would compute the maximum value of each separate column, and `np.max(M, axis=1)` would compute the maximum value of each separate row."
   ]
  },
  {
   "cell_type": "code",
   "execution_count": 46,
   "metadata": {
    "colab": {
     "base_uri": "https://localhost:8080/"
    },
    "id": "9n9MEtBpaNY0",
    "outputId": "6820a8dc-ccb9-434c-8666-270c7c50b587"
   },
   "outputs": [
    {
     "output_type": "stream",
     "name": "stdout",
     "text": [
      "[[3.  6. ]\n",
      " [0.5 4. ]\n",
      " [5.  1. ]]\n",
      "Minimum among all the values in M: \n",
      "0.5\n",
      "Mean (average) of all the values in M: \n",
      "3.25\n",
      "Standard deviation (std) of all the values in M: \n",
      "1.9947848672643038\n",
      "The mean (average) value of each row: \n",
      "[2.83333333 3.66666667]\n",
      "The median value of each column: \n",
      "[4.5  2.25 3.  ]\n"
     ]
    }
   ],
   "source": [
    "M = np.array([\n",
    "    [3.0, 6.0],\n",
    "    [0.5, 4.0],\n",
    "    [5.0, 1.0]\n",
    "])\n",
    "\n",
    "print(M)\n",
    "\n",
    "\"\"\" TODO:\n",
    "Compute the following:\n",
    "\"\"\"\n",
    "print(\"Minimum among all the values in M: \")\n",
    "print(M.min() )\n",
    "\n",
    "print(\"Mean (average) of all the values in M: \")\n",
    "print(M.mean() )\n",
    "\n",
    "print(\"Standard deviation (std) of all the values in M: \")\n",
    "print( M.std() )\n",
    "\n",
    "print(\"The mean (average) value of each row: \")\n",
    "print( M.mean(axis=0))\n",
    "\n",
    "print(\"The median value of each column: \")\n",
    "print(np.median(M,axis=1))\n"
   ]
  },
  {
   "cell_type": "markdown",
   "metadata": {
    "id": "iWAk-1XWaNY0"
   },
   "source": [
    "### Dot product\n",
    "The dot product of two (one-dimensional) arrays $u$ and $v$ (of the same length $d$, i.e., `len(u) == len(v)`) is defined as: $\\sum_{j=0}^{d-1} u_j v_j$. In Python, it is easy to compute this without using a loop, with one of the following methods:\n",
    "- using `np.dot(u, v)`\n",
    "- or in Python 3 using: `u @ v` which is preferred and more explicit."
   ]
  },
  {
   "cell_type": "code",
   "execution_count": 57,
   "metadata": {
    "colab": {
     "base_uri": "https://localhost:8080/"
    },
    "id": "ZHq7I_shaNY0",
    "outputId": "b0c52137-ab91-4d03-c3dd-e36c26175fc2"
   },
   "outputs": [
    {
     "output_type": "stream",
     "name": "stdout",
     "text": [
      "Using method 1:  37\n",
      "Using method 2:  37\n",
      "Using method 3:  37\n"
     ]
    }
   ],
   "source": [
    "u = np.array([1, 2, 10]) # u has shape (3,)\n",
    "v = np.array([5, 1, 3])  # v has shape (3,)\n",
    "\n",
    "\"\"\" TODO:\n",
    "Compute here the dot product of u and v using three methods:\n",
    "- using the np.dot function\n",
    "- using the @ operator\n",
    "- using the euqation shown above (with the sum)\n",
    "You should get the \"\"\"\n",
    "\n",
    "print( \"Using method 1: \", np.dot(u,v))\n",
    "print( \"Using method 2: \", u@v )\n",
    "dot_product=0\n",
    "for i in range(len(u)):\n",
    "  dot_product+=u[i]*v[i]\n",
    "print( \"Using method 3: \",dot_product )"
   ]
  },
  {
   "cell_type": "markdown",
   "metadata": {
    "id": "TfE30f0XaNY0"
   },
   "source": [
    "Computing the product of a matrix $A$ (two-dimensional array) and a vector $v$ (one-dimensional array) requires computing the dot product of each row of $A$ with the vector $v$. This means that the number of columns in the matrix $A$ should be equal to `len(v)`. In Python 3, it is easy to compute the product of a matrix $A$ and a vector $v$ simply using `A @ v` (assuming that `A` has shape `(n, d)`, and `v` has shape `(d,)`."
   ]
  },
  {
   "cell_type": "code",
   "execution_count": 60,
   "metadata": {
    "colab": {
     "base_uri": "https://localhost:8080/"
    },
    "id": "E6ipHZxxaNY0",
    "outputId": "18747d37-b21f-4a9a-decf-3d15b88f8223"
   },
   "outputs": [
    {
     "output_type": "stream",
     "name": "stdout",
     "text": [
      "[22 61]\n"
     ]
    }
   ],
   "source": [
    "# Matrix A has n=2 rows and d=3 columns\n",
    "A = np.array([\n",
    "    [1, 2, 3],\n",
    "    [4, 5, 6],\n",
    "])\n",
    "\n",
    "# Vector v has d=3 values\n",
    "v = np.array(\n",
    "    [6,\n",
    "     5,\n",
    "     2])\n",
    "\n",
    "\"\"\" TODO:\n",
    "Compute here the product of A and v. The product\n",
    "should be a vector of n=2 values.\n",
    "\"\"\"\n",
    "print(A@v)\n"
   ]
  },
  {
   "cell_type": "markdown",
   "metadata": {
    "id": "TLXMgtMQaNY0"
   },
   "source": [
    "Similarly, computing the product of two matrices $A$ and $B$ requires computing the dot product between each row of the first matrix, with each column of the second matrix. This means that the number of columns in the first matrix should be equal to the number of rows in the second matrix. In Python 3, it is easy to compute the product of two matricies $A$ and $B$ simply using `A @ B` (assuming that $A \\in \\mathbb{R}^{n \\times d}$ and $B \\in \\mathbb{R}^{d \\times k}$). The result would be a matrix $\\in \\mathbb{R}^{n \\times k}$."
   ]
  },
  {
   "cell_type": "code",
   "execution_count": 61,
   "metadata": {
    "colab": {
     "base_uri": "https://localhost:8080/"
    },
    "id": "nAwQHh6IaNY0",
    "outputId": "d5bc7b50-8711-427b-b894-256e73c1c6d7"
   },
   "outputs": [
    {
     "output_type": "stream",
     "name": "stdout",
     "text": [
      "[[28 25 16 28]\n",
      " [64 67 43 76]]\n"
     ]
    }
   ],
   "source": [
    "# A has n=2 lines and d=3 columns\n",
    "A = np.array([\n",
    "    [1, 2, 3],\n",
    "    [4, 5, 6],\n",
    "])\n",
    "\n",
    "# B has d=3 lines and k=4 columns\n",
    "B = np.array([\n",
    "    [2, 8, 4, 9],\n",
    "    [4, 1, 3, 2],\n",
    "    [6, 5, 2, 5],\n",
    "])\n",
    "\n",
    "\"\"\" TODO:\n",
    "Compute here the product of A and B. The product\n",
    "should be a matrix of n=2 rows and k=4 columns.\n",
    "\"\"\"\n",
    "print(A@B)"
   ]
  },
  {
   "cell_type": "markdown",
   "metadata": {
    "id": "Yp4sWu_8aNY1"
   },
   "source": [
    "## 2. Plotting with Matplotlib\n",
    "Matplotlib is a Python library that allows you to visualize data.<br>\n",
    "First, let's load a matrix whose values are stored in a csv file `simpleDataset.csv`. The matrix $X \\in \\mathbb{R}^{300 \\times 2}$ has $n=300$ rows and $d=2$ columns."
   ]
  },
  {
   "cell_type": "code",
   "execution_count": 9,
   "metadata": {
    "colab": {
     "base_uri": "https://localhost:8080/",
     "height": 405
    },
    "id": "KbIsOMkJaNY1",
    "outputId": "da3353cf-ff61-4dbe-f82d-6bc5438eadce",
    "ExecuteTime": {
     "end_time": "2023-09-21T12:22:46.429690900Z",
     "start_time": "2023-09-21T12:22:46.375186700Z"
    }
   },
   "outputs": [
    {
     "name": "stdout",
     "output_type": "stream",
     "text": [
      "X.shape: (300, 2)\n",
      "[[1.84207953 4.6075716 ]\n",
      " [5.65858312 4.79996405]\n",
      " [6.35257892 3.2908545 ]\n",
      " [2.90401652 4.61220411]\n",
      " [3.23197916 4.93989405]\n",
      " [1.24792268 4.93267846]\n",
      " [1.97619886 4.43489674]\n",
      " [2.23454135 5.05547168]\n",
      " [2.98340757 4.84046406]\n",
      " [2.97970391 4.80671081]]\n"
     ]
    }
   ],
   "source": [
    "import pandas as pd\n",
    "\n",
    "df = pd.read_csv(\"datasets/simpleDataset.csv\")  # Load it as pandas DataFrame\n",
    "X = df.values  # Get the values as a numpy array.\n",
    "print(\"X.shape:\", X.shape)\n",
    "\n",
    "\"\"\" TODO:\n",
    "print a small subset of X (e.g. the 10 first rows) to see what it looks like.\n",
    "\"\"\"\n",
    "\n",
    "print(X[0:10,])"
   ]
  },
  {
   "cell_type": "markdown",
   "metadata": {
    "id": "31wD0TL3aNY1"
   },
   "source": [
    "Next, run the following cell to import matplotlib"
   ]
  },
  {
   "cell_type": "code",
   "execution_count": 11,
   "metadata": {
    "id": "a3dPrmP2aNY1",
    "ExecuteTime": {
     "end_time": "2023-09-21T12:25:16.637642600Z",
     "start_time": "2023-09-21T12:25:11.079941200Z"
    }
   },
   "outputs": [],
   "source": [
    "import matplotlib.pyplot as plt"
   ]
  },
  {
   "cell_type": "markdown",
   "metadata": {
    "id": "_YLJDzpUaNY1"
   },
   "source": [
    "We want to produce a a scatter plot that shows each row from $X$ as a point on a two dimensional plot. To produce a scatter plot of all our data we use:\n",
    "```python\n",
    "plt.scatter(values_at_column_0, values_at_column_1)\n",
    "```\n",
    "- The `values_at_column_0` correspond to `X[:, 0]` (i.e. all values at column 0 of $X$).\n",
    "- The `values_at_column_1` correspond to `X[:, 1]` (i.e. all values at column 1 of $X$).\n",
    "\n",
    "Then, we display our plot using:\n",
    "```python\n",
    "plt.show()\n",
    "```\n",
    "\n",
    "Read the following code and run the cell to see the plot:"
   ]
  },
  {
   "cell_type": "code",
   "execution_count": 12,
   "metadata": {
    "id": "6bQbXyBRaNY1",
    "ExecuteTime": {
     "end_time": "2023-09-21T12:27:45.316373400Z",
     "start_time": "2023-09-21T12:27:45.088536200Z"
    }
   },
   "outputs": [
    {
     "data": {
      "text/plain": "<Figure size 640x480 with 1 Axes>",
      "image/png": "[encoded data removed]"
     },
     "metadata": {},
     "output_type": "display_data"
    }
   ],
   "source": [
    "plt.scatter(X[:, 0], X[:, 1]) # scatter plot of all the data\n",
    "plt.show()                    # display our figure"
   ]
  },
  {
   "cell_type": "markdown",
   "metadata": {
    "id": "d9LWPeEbaNY1"
   },
   "source": [
    "To make our scatter plot more meaningful, we can:\n",
    "1. Add a title to our figure.\n",
    " - We can add a title using `plt.title(\"Your Title Here\")`\n",
    "\n",
    "\n",
    "2. Add a text that describes the x-axis (e.g. `\"Feature 0\"` as in the figure below) and the y-axis (e.g. `\"Feature 1\"`).\n",
    " - We can add a text to describe the x-axis using `plt.xlabel(\"...\")`, and a text to describe the y-axis using `plt.ylabel(\"...\")`.\n",
    "\n",
    "\n",
    "3. Use a personalized color and a personalized marker for our data-points.\n",
    " - When calling the `plt.scatter(...)` function, we can specify a color (e.g. `\"red\"`) and a marker (e.g. `\"x\"`) as follows: `plt.scatter(values_at_column_0, values_at_column_1, color=\"red\", marker=\"x\")`. There are several possible markers, some of them are: `\"x\"`, `\"o\"`, `\".\"`, `\"+\"`, `\">\"`, `\"s\"`, ... etc. You can also use any predefined letter as a marker, for example, to use the letter R, your marker should be: `\"$R$\"`.\n",
    "\n",
    "\n",
    "4. Use a legend text to describe something about your data-points.\n",
    " - To do so, when calling the `plt.scatter(...)` function we can specify a label (i.e. some text) as follows: `plt.scatter(values_at_column_0, values_at_column_1, color=\"red\", marker=\"x\", label=\"All My Points\")`. Then, we need to call `plt.legend()` to make the legend text appear.\n",
    "\n",
    "Based on this description, complete the following code to produce a more mearningful scatter plot that looks like the following:\n",
    "<img src=\"imgs/simpleScatter1.png\" width=\"500px\" />\n"
   ]
  },
  {
   "cell_type": "code",
   "execution_count": 19,
   "metadata": {
    "id": "QJg7ndz9aNY1",
    "ExecuteTime": {
     "end_time": "2023-09-21T12:45:00.354102900Z",
     "start_time": "2023-09-21T12:45:00.206408400Z"
    }
   },
   "outputs": [
    {
     "data": {
      "text/plain": "<Figure size 640x480 with 1 Axes>",
      "image/png": "[encoded data removed]"
     },
     "metadata": {},
     "output_type": "display_data"
    }
   ],
   "source": [
    "\"\"\" TODO:\n",
    "Complete the code to produce a plot similar to the above picture\n",
    "\"\"\"\n",
    "# Add a title to your figure:\n",
    "plt.title(\"Simple dataset with 3 clusters\")\n",
    "\n",
    "# Add a text that describes the two dimensions of your scatter plot:\n",
    "plt.xlabel(\"Feature 0\")\n",
    "plt.ylabel(\"Feature 1\")\n",
    "\n",
    "# Do a scattr plot with a personalized color and marker and legend:\n",
    "plt.scatter(X[:, 0], X[:, 1],  color=\"red\", marker=\"x\", label=\"All My Points\")\n",
    "# plt.show()\n",
    "plt.legend()\n",
    "plt.show()"
   ]
  },
  {
   "cell_type": "markdown",
   "metadata": {
    "id": "v-QfVo_-aNY2"
   },
   "source": [
    "Finally, the 300 data-points of our dataset $X$ are divided into three clusters (groups of points) :\n",
    "- The first cluster of points (shown in blue on the next figure) consists of rows between 0 and 100 (i.e. the subset `X[0:100]`, or `X[:100]`)\n",
    "- The second cluster of points (shown in red) consists of rows between 100 and 200 (i.e. the subset `X[100:200]`)\n",
    "- The third cluster of points (shown in green) consists of rows between 200 and 300 (i.e. the subset `X[200:300]`, or `X[200:]`).\n",
    "\n",
    "You are asked to complete the following code in order to produce a scatter plot that looks like the following:\n",
    "<img src=\"imgs/simpleScatter2.png\" width=\"500px\" />\n"
   ]
  },
  {
   "cell_type": "code",
   "execution_count": 22,
   "metadata": {
    "id": "ir4YAu7OaNY2",
    "ExecuteTime": {
     "end_time": "2023-09-21T13:00:01.607668700Z",
     "start_time": "2023-09-21T13:00:01.477002500Z"
    }
   },
   "outputs": [
    {
     "data": {
      "text/plain": "<Figure size 640x480 with 1 Axes>",
      "image/png": "[encoded data removed]"
     },
     "metadata": {},
     "output_type": "display_data"
    }
   ],
   "source": [
    "\"\"\" TODO:\n",
    "Complete the code to produce a plot similar to the above figure\n",
    "\"\"\"\n",
    "# Add a title for the figure\n",
    "plt.title(\"Simple dataset with 3 clusters\")\n",
    "\n",
    "# Set the x-axis label to \"Feature 0\" and the y-axis label to \"Feature 1\"\n",
    "plt.xlabel(\"Feature 0\")\n",
    "plt.ylabel(\"Feature 1\")\n",
    "# Scatter plot for the points of the first cluster: ax.scatter(...)\n",
    "plt.scatter(X[:100,0],X[:100,1]  ,  color=\"red\", marker=\"x\", label=\"Second Cluster\")\n",
    "plt.scatter(X[100:200,0],X[100:200,1],  color=\"green\", marker=\"x\", label=\"Third Cluster\")\n",
    "plt.scatter(X[200:300,0], X[200:300,1], color=\"blue\", marker=\"x\", label=\"First Cluster\")\n",
    "plt.show()"
   ]
  },
  {
   "cell_type": "code",
   "execution_count": null,
   "metadata": {
    "id": "e3lLDcMdaNY2"
   },
   "outputs": [],
   "source": []
  }
 ],
 "metadata": {
  "kernelspec": {
   "display_name": "Python 3",
   "language": "python",
   "name": "python3"
  },
  "language_info": {
   "codemirror_mode": {
    "name": "ipython",
    "version": 3
   },
   "file_extension": ".py",
   "mimetype": "text/x-python",
   "name": "python",
   "nbconvert_exporter": "python",
   "pygments_lexer": "ipython3",
   "version": "3.7.4"
  },
  "colab": {
   "provenance": []
  }
 },
 "nbformat": 4,
 "nbformat_minor": 0
}
