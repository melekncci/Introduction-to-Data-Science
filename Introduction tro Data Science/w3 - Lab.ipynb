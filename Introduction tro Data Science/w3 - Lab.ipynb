{
 "cells": [
  {
   "cell_type": "markdown",
   "metadata": {},
   "source": [
    "# Functions\n",
    "\n",
    "## Question 1\n",
    "Define a function named `get_even_numbers` that returns a list containing only the even numbers from a given list.\n",
    "For example, if the list given as argument is `[1, 2, 3, 4, 5, 6, 7, 8, 9]`, the function should return `[2, 4, 6, 8]`.\n",
    "\n",
    "Hint: an *even* number means that it is a multiple of 2 (which means that the reminder of the division of that number by 2 is 0). So think about using the <a href=\"https://www.geeksforgeeks.org/what-is-a-modulo-operator-in-python/\">modulo</a> operator (%) in Python."
   ]
  },
  {
   "cell_type": "code",
   "execution_count": 2,
   "metadata": {
    "ExecuteTime": {
     "end_time": "2023-09-18T18:13:21.250900300Z",
     "start_time": "2023-09-18T18:13:21.234894900Z"
    }
   },
   "outputs": [
    {
     "name": "stdout",
     "output_type": "stream",
     "text": [
      "[2, 4, 6, 8]\n"
     ]
    }
   ],
   "source": [
    "#MELEK İNCİ \n",
    "def get_even_numbers(lst):\n",
    "    even_numbers = []  \n",
    "    for num in lst:\n",
    "        if num % 2 == 0:  \n",
    "            even_numbers.append(num)  \n",
    "    return even_numbers\n",
    "\n",
    "result = get_even_numbers([1, 2, 3, 4, 5, 6, 7, 8, 9])\n",
    "print(result)  \n"
   ]
  },
  {
   "cell_type": "markdown",
   "metadata": {},
   "source": [
    "## Question 2\n",
    "Define a function named `distance` that takes as arguments two lists `x` and `z` of equal size and computes the Euclidean distance between them. This distance is mathematically defined as: <br>\n",
    "$\\sqrt {\\sum\\limits_{i=0}^{n-1}  \\left( x_i - z_i \\right)^2 }$, where $x_i$ is the $i^{th}$ element of `x`, and $z_i$ is the $i^{th}$ element of `z`, and $n$ is the size of the lists.<br>\n",
    "For example, if `x = [3, 2, 8]` and `z = [5, 1, 6]`, then `distance(x, z)` is $\\sqrt {(3-5)^2 + (2-1)^2 + (8-6)^2}$ \n",
    "\n",
    "Note: you can use `math.sqrt(...)` to compute the square root in Python."
   ]
  },
  {
   "cell_type": "code",
   "execution_count": 4,
   "metadata": {
    "ExecuteTime": {
     "end_time": "2023-09-18T18:16:10.579615Z",
     "start_time": "2023-09-18T18:16:10.558964600Z"
    }
   },
   "outputs": [
    {
     "name": "stdout",
     "output_type": "stream",
     "text": [
      "3.0\n"
     ]
    }
   ],
   "source": [
    "import math  \n",
    "\n",
    "def distance(x, z):\n",
    "    if len(x) != len(z):\n",
    "        raise ValueError(\"input lists have to have the same size\")\n",
    "    sum_of_squared_diff = 0\n",
    "    for i in range(len(x)):\n",
    "        squared_diff = (x[i] - z[i]) ** 2\n",
    "        sum_of_squared_diff += squared_diff\n",
    "    euclidean_distance = math.sqrt(sum_of_squared_diff)\n",
    "    \n",
    "    return euclidean_distance\n",
    "\n",
    "lst1 = [3., 2., 8.]\n",
    "lst2 = [5., 1., 6.]\n",
    "result = distance(lst1, lst2)\n",
    "print(result)  "
   ]
  },
  {
   "cell_type": "markdown",
   "metadata": {},
   "source": [
    "## Question 3\n",
    "Define a function named `is_sorted` that informs whether or not a list given as argument contains elements that are all sorted in ascending order (from smallest to largest).<br>\n",
    "For example, if the function is called with `is_sorted([2 ,7, 9, 15])`, then it should return `True` (since all the numbers in this list are sorted in the ascending order). However, `is_sorted([2 ,7, 3, 15])` should return `False` (since 7 > 3, but 7 is positioned before 3).\n"
   ]
  },
  {
   "cell_type": "code",
   "execution_count": 11,
   "metadata": {
    "ExecuteTime": {
     "end_time": "2023-09-18T18:20:19.716313500Z",
     "start_time": "2023-09-18T18:20:19.700802Z"
    }
   },
   "outputs": [
    {
     "name": "stdout",
     "output_type": "stream",
     "text": [
      "True\n",
      "False\n"
     ]
    }
   ],
   "source": [
    "lst1 = [2, 7, 9, 15]\n",
    "lst2 = [2, 7, 3, 15]\n",
    "\n",
    "def is_sorted(lst):\n",
    "    return all(lst[i] <= lst[i + 1] for i in range(len(lst) - 1))\n",
    "\n",
    "print(is_sorted(lst1))  \n",
    "print(is_sorted(lst2))  "
   ]
  },
  {
   "cell_type": "markdown",
   "metadata": {},
   "source": [
    "## Question 4\n",
    "Write a function named `reverse` that takes a list as argument and returns a **new list** that contains the elements of the first list in a reverse order.\n",
    "For example, if the function is called with `reverse([\"tata\", \"toto\", \"titi\", \"foo\"])`, it should return `[\"foo\", \"titi\", \"toto\", \"tata\"]`."
   ]
  },
  {
   "cell_type": "code",
   "execution_count": 3,
   "metadata": {
    "ExecuteTime": {
     "end_time": "2023-09-18T18:23:12.225846700Z",
     "start_time": "2023-09-18T18:23:12.213840200Z"
    }
   },
   "outputs": [
    {
     "name": "stdout",
     "output_type": "stream",
     "text": [
      "['foo', 'titi', 'toto', 'tata']\n"
     ]
    }
   ],
   "source": [
    "# TODO: define your function here\n",
    "# def ...\n",
    "def reverse(input_list):\n",
    "    reversed_list = input_list[::-1]  \n",
    "    return reversed_list\n",
    "\n",
    "# Check if the function works as expected:\n",
    "mylist = [\"tata\", \"toto\", \"titi\", \"foo\"]\n",
    "new_list = reverse(mylist)\n",
    "print(new_list)"
   ]
  },
  {
   "cell_type": "markdown",
   "metadata": {},
   "source": [
    "Now you are asked to do the same as in the above question, however, this time the function is called `reverse_inplace` and should not return anything. Instead of returning a new list, it should modify the original list given as argument (that's what *in-place* means)."
   ]
  },
  {
   "cell_type": "code",
   "execution_count": 7,
   "metadata": {
    "ExecuteTime": {
     "end_time": "2023-09-18T18:24:40.885535100Z",
     "start_time": "2023-09-18T18:24:40.852525900Z"
    }
   },
   "outputs": [
    {
     "name": "stdout",
     "output_type": "stream",
     "text": [
      "['foo', 'titi', 'toto', 'tata']\n"
     ]
    }
   ],
   "source": [
    "# TODO: define your function here\n",
    "# def ...\n",
    "def reverse_inplace(input_list):\n",
    "    input_list.reverse() \n",
    "\n",
    "#ÖNEMLİ \n",
    "\n",
    "# Check if the function works as expected:\n",
    "mylist = [\"tata\", \"toto\", \"titi\", \"foo\"]\n",
    "reverse_inplace(mylist)\n",
    "print(mylist)"
   ]
  },
  {
   "cell_type": "markdown",
   "metadata": {},
   "source": [
    "## Question 5\n",
    "The goal of this question is to write a program that allows the user to guess the secret number generated randomly by the program. But before doing that, let's first start by defining some useful functions.\n",
    "\n",
    "#### Defining the function `input_number(...)`\n",
    "The first function you are asked to define is called `input_number`. This function takes as argument a string `msg` to display to the user (just like the usual `input(msg)` function) and should force the user to enter a numeric value (an integer number). As long as the user enters something which not numeric, the function should display `\"That's not an integer number!\"` and should ask for the user's input again.<br>\n",
    "To test if a string `s` correspond to a numeric value in Python, you can use `s.isnumeric()`. For example, `\"hello\".isnumeric()` would give you `False` (so you can not convert it to an int using `int(\"hello\")`), but `\"32\".isnumeric()` would be `True` (so you can convert it to an int using `int(\"32\")`).\n",
    "\n",
    "Here is an example of an exchange with the user when the function is called as follows `nbr = input_number(\"Enter a number: \")`\n",
    "```\n",
    "Enter a number: hej hej\n",
    "That's not an integer number!\n",
    "\n",
    "Enter a number: hello\n",
    "That's not an integer number!\n",
    "\n",
    "Enter a number: 32\n",
    "```"
   ]
  },
  {
   "cell_type": "code",
   "execution_count": 2,
   "metadata": {
    "ExecuteTime": {
     "end_time": "2023-09-18T18:36:00.490936600Z",
     "start_time": "2023-09-18T18:35:59.346829300Z"
    }
   },
   "outputs": [
    {
     "name": "stdout",
     "output_type": "stream",
     "text": [
      "You entered: 4\n"
     ]
    }
   ],
   "source": [
    "# TODO: define your function\n",
    "\n",
    "def input_number(msg):\n",
    "    while True:\n",
    "        user_input = input(msg)\n",
    "        if user_input.isnumeric():  #FONKSİYONA TEKRAR BAK\n",
    "            return int(user_input)\n",
    "        else:\n",
    "            print(\"it's not an integer number!\")\n",
    "\n",
    "# Test the function\n",
    "nbr = input_number(\"Enter a number: \")\n",
    "print(\"You entered:\", nbr)\n"
   ]
  },
  {
   "cell_type": "code",
   "execution_count": 11,
   "metadata": {
    "ExecuteTime": {
     "end_time": "2023-09-18T18:26:19.309878800Z",
     "start_time": "2023-09-18T18:26:18.197003Z"
    }
   },
   "outputs": [
    {
     "data": {
      "text/plain": "5"
     },
     "execution_count": 11,
     "metadata": {},
     "output_type": "execute_result"
    }
   ],
   "source": [
    "# Check if the function works as expected:\n",
    "nbr = input_number(\"Enter a number: \")\n",
    "nbr"
   ]
  },
  {
   "cell_type": "markdown",
   "metadata": {},
   "source": [
    "#### Defining the function `generate_random_secret_number()`\n",
    "The second function you are asked to define is called `generate_random_secret_number`. This function does not take any argument. It should ask the user to enter a number `A` and a number `B` (using the `input_number` function you define previously), then it returns a random integer generated between `A` and `B`. To randomly generate an integer between `A` and `B` you can use `random.randint(A, B)`."
   ]
  },
  {
   "cell_type": "code",
   "execution_count": 12,
   "metadata": {
    "ExecuteTime": {
     "end_time": "2023-09-18T18:28:06.271349100Z",
     "start_time": "2023-09-18T18:28:03.553961300Z"
    }
   },
   "outputs": [
    {
     "name": "stdout",
     "output_type": "stream",
     "text": [
      "Random secret number: 2\n"
     ]
    }
   ],
   "source": [
    "import random\n",
    "\n",
    "# TODO: define the function\n",
    "def generate_random_secret_number():\n",
    "    A = input_number(\"enter lower bound A: \")\n",
    "    B = input_number(\"Enter upper bound B: \")\n",
    "    rnd = random.randint(A, B)\n",
    "    return rnd\n",
    "def input_number(msg):\n",
    "    while True:\n",
    "        user_input = input(msg)\n",
    "        if user_input.isnumeric():\n",
    "            return int(user_input)\n",
    "        else:\n",
    "            print(\"ıt's not an integer number!\")\n",
    "\n",
    "secret_number = generate_random_secret_number()\n",
    "print(\"Random secret number:\", secret_number)\n"
   ]
  },
  {
   "cell_type": "code",
   "execution_count": 13,
   "metadata": {
    "ExecuteTime": {
     "end_time": "2023-09-18T18:28:41.384248300Z",
     "start_time": "2023-09-18T18:28:33.759844400Z"
    }
   },
   "outputs": [
    {
     "name": "stdout",
     "output_type": "stream",
     "text": [
      "ıt's not an integer number!\n",
      "ıt's not an integer number!\n"
     ]
    },
    {
     "data": {
      "text/plain": "4"
     },
     "execution_count": 13,
     "metadata": {},
     "output_type": "execute_result"
    }
   ],
   "source": [
    "# Check if the function works as expected:\n",
    "rnd = generate_random_secret_number()\n",
    "rnd"
   ]
  },
  {
   "cell_type": "markdown",
   "metadata": {},
   "source": [
    "#### Defining the function `game(...)`\n",
    "The last function you are asked to define is called `game`. This function generates randomly a secret number and challenges the user to guess it in a limited number of trials. The function takes the number of `trials` as an argument (with a default value of 10).\n",
    "Here is an example after calling the function `game(trials=10)` :\n",
    "```\n",
    "Enter a number A: 1\n",
    "Enter a number B: 100\n",
    "Some secret number was generated between A and B, try to guess it in less than 10 trials.\n",
    "\n",
    "(trial 1) Guess the secret number: 50\n",
    "The secret number is smaller than this\n",
    "\n",
    "(trial 2) Guess the secret number: 25\n",
    "The secret number is larger than this\n",
    "\n",
    "(trial 3) Guess the secret number: 40\n",
    "Congratulations, the secret number is 40. You found it after 3 trials.\n",
    "```"
   ]
  },
  {
   "cell_type": "code",
   "execution_count": 1,
   "metadata": {
    "ExecuteTime": {
     "end_time": "2023-09-18T18:35:17.998637500Z",
     "start_time": "2023-09-18T18:35:07.061408300Z"
    }
   },
   "outputs": [
    {
     "name": "stdout",
     "output_type": "stream",
     "text": [
      "some secret number was generated between 22507 and 22527, try to guess it in less than 10 trials.\n",
      "\n",
      "secret number is larger than this\n",
      "secret number is larger than this\n",
      "\n",
      "secret number is larger than this\n",
      "secret number is larger than this\n",
      "\n",
      "secret number is larger than this\n",
      "secret number is larger than this\n",
      "\n",
      "secret number is larger than this\n",
      "secret number is larger than this\n",
      "\n",
      "secret number is larger than this\n",
      "secret number is larger than this\n",
      "\n",
      "sorry, you reached the maximum number of trials.secret number was 22517.\n"
     ]
    }
   ],
   "source": [
    "# TODO: define the function\n",
    "\n",
    "import random\n",
    "def input_number(msg):\n",
    "    while True:\n",
    "        user_input = input(msg)\n",
    "        if user_input.isnumeric():\n",
    "            return int(user_input)\n",
    "        else:\n",
    "            print(\"it's not an integer number!\")\n",
    "\n",
    "def generate_random_secret_number():\n",
    "    A = input_number(\"enter lower bound (A): \")\n",
    "    B = input_number(\"Enter upper bound (B): \")\n",
    "    rnd = random.randint(A, B)\n",
    "    return rnd\n",
    "\n",
    "\n",
    "def game(trials=10):\n",
    "    secret_number = generate_random_secret_number()\n",
    "    print(f\"some secret number was generated between {secret_number - 10} and {secret_number + 10}, try to guess it in less than {trials} trials.\\n\")\n",
    "    \n",
    "    for trial in range(1, trials + 1):\n",
    "        guess = input_number(f\"(trial {trial}) guess the secret number: \")\n",
    "        \n",
    "        if guess < secret_number:\n",
    "            print(\"secret number is larger than this\\n\")\n",
    "        elif guess > secret_number:\n",
    "            print(\"secret number is smaller than this\\n\")\n",
    "        else:\n",
    "            print(f\"congratulations, the secret number is {secret_number}. you found it after {trial} trials.\")\n",
    "            return\n",
    "\n",
    "    print(f\"sorry, you reached the maximum number of trials.secret number was {secret_number}.\")\n",
    "\n",
    "game(trials=10)    "
   ]
  },
  {
   "cell_type": "code",
   "execution_count": 18,
   "metadata": {
    "ExecuteTime": {
     "end_time": "2023-09-18T18:33:12.595520100Z",
     "start_time": "2023-09-18T18:32:58.079414500Z"
    }
   },
   "outputs": [
    {
     "name": "stdout",
     "output_type": "stream",
     "text": [
      "it's not an integer number!\n",
      "some secret number was generated between 33374336 and 33374356, try to guess it in less than 10 trials.\n",
      "\n",
      "secret number is larger than this\n",
      "secret number is larger than this\n",
      "\n",
      "secret number is larger than this\n",
      "secret number is larger than this\n",
      "\n",
      "secret number is larger than this\n",
      "secret number is larger than this\n",
      "\n",
      "secret number is larger than this\n",
      "secret number is larger than this\n",
      "\n",
      "secret number is larger than this\n",
      "secret number is larger than this\n",
      "\n",
      "sorry, you reached the maximum number of trials.secret number was 33374346.\n"
     ]
    }
   ],
   "source": [
    "# Check if the function works as expected:\n",
    "game(trials=10)"
   ]
  },
  {
   "cell_type": "code",
   "execution_count": null,
   "outputs": [],
   "source": [],
   "metadata": {
    "collapsed": false
   }
  }
 ],
 "metadata": {
  "kernelspec": {
   "display_name": "Python 3 (ipykernel)",
   "language": "python",
   "name": "python3"
  },
  "language_info": {
   "codemirror_mode": {
    "name": "ipython",
    "version": 3
   },
   "file_extension": ".py",
   "mimetype": "text/x-python",
   "name": "python",
   "nbconvert_exporter": "python",
   "pygments_lexer": "ipython3",
   "version": "3.9.13"
  }
 },
 "nbformat": 4,
 "nbformat_minor": 2
}
