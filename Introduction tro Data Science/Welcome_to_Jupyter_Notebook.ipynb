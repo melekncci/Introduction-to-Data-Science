{
 "cells": [
  {
   "cell_type": "markdown",
   "metadata": {
    "id": "TxYVe4uEkGW4"
   },
   "source": [
    "# Welcome to Jupyter Notebook\n",
    "\n",
    "This initial Lab is just to get you familiar with Jupyter notebook.\n",
    "\n",
    "Jupyter Notebook is a tool that lets you organize your Python code and makes it easier to present. A notebook is a single document (like this one) where you can read explanations (like this text), write and run Python code (like below), and display the output. It is helpful for data science projects and Labs since it allows you to read the teacher's instructions, write the corresponding code, and directly execute it from your web browser."
   ]
  },
  {
   "cell_type": "markdown",
   "metadata": {
    "id": "ypcQT0VbkGW-"
   },
   "source": [
    "# How to run a code cell\n",
    "\n",
    "The Python code is presented within cells that you can run (or execute). For example, select the first code cell below, then press the \"**Run**\" button (in the top menu) to execute it. You can also execute the selected cell by pressing **CTRL+ENTER** or **SHIFT+ENTER** on your keyboard.\n",
    "\n",
    "For each cell below, read the code, run it, and try to understand what it does (based on the displayed output). Don't worry if you don't understand something at this stage; you will study everything in the upcoming lectures. Feel free to ask the Lab teacher if you don't understand something or if you need help."
   ]
  },
  {
   "cell_type": "code",
   "execution_count": 2,
   "metadata": {
    "colab": {
     "base_uri": "https://localhost:8080/"
    },
    "id": "gEeMDDj9kGW_",
    "outputId": "188a9824-c753-492c-b46f-c052eb83e6ea"
   },
   "outputs": [
    {
     "data": {
      "text/plain": [
       "8"
      ]
     },
     "execution_count": 2,
     "metadata": {},
     "output_type": "execute_result"
    }
   ],
   "source": [
    "2+6"
   ]
  },
  {
   "cell_type": "code",
   "execution_count": 3,
   "metadata": {
    "colab": {
     "base_uri": "https://localhost:8080/"
    },
    "id": "YJhYAL4akGXB",
    "outputId": "6aee001c-1421-4b28-c313-184a6ad86973"
   },
   "outputs": [
    {
     "data": {
      "text/plain": [
       "15"
      ]
     },
     "execution_count": 3,
     "metadata": {},
     "output_type": "execute_result"
    }
   ],
   "source": [
    "5*3"
   ]
  },
  {
   "cell_type": "code",
   "execution_count": 4,
   "metadata": {
    "colab": {
     "base_uri": "https://localhost:8080/"
    },
    "id": "4a3O3eLWkGXB",
    "outputId": "0cb62a2c-ea66-4fbe-d201-445eef429656"
   },
   "outputs": [
    {
     "name": "stdout",
     "output_type": "stream",
     "text": [
      "Hello world\n"
     ]
    }
   ],
   "source": [
    "print(\"Hello world\")"
   ]
  },
  {
   "cell_type": "code",
   "execution_count": 2,
   "metadata": {
    "id": "e9O4OLVFkGXC"
   },
   "outputs": [],
   "source": [
    "# This line does nothing. It's just a comment. It is ignored by Python as it starts with a hash (#)"
   ]
  },
  {
   "cell_type": "code",
   "execution_count": 6,
   "metadata": {
    "colab": {
     "base_uri": "https://localhost:8080/"
    },
    "id": "erB5tiS2kGXD",
    "outputId": "e2727ac8-f59c-4d62-ec60-1ec91a440fa0"
   },
   "outputs": [
    {
     "name": "stdout",
     "output_type": "stream",
     "text": [
      "The result of the addition is 14\n",
      "The result of the multiplication is 40\n",
      "The result of the division is 2.5\n"
     ]
    }
   ],
   "source": [
    "A = 10\n",
    "B = 4\n",
    "\n",
    "print(\"The result of the addition is\", A+B)\n",
    "print(\"The result of the multiplication is\", A*B)\n",
    "print(\"The result of the division is\", A/B)"
   ]
  },
  {
   "cell_type": "code",
   "execution_count": 7,
   "metadata": {
    "colab": {
     "base_uri": "https://localhost:8080/"
    },
    "id": "ufCDDI9wkGXE",
    "outputId": "e4a47d90-fa4c-40a0-e63e-b3e27f1a5895"
   },
   "outputs": [
    {
     "name": "stdout",
     "output_type": "stream",
     "text": [
      "Hi! My name is Bob and I am 28 years old.\n",
      "In 2 years, I will be 30 years old.\n"
     ]
    }
   ],
   "source": [
    "name = \"Bob\"\n",
    "age = 28\n",
    "\n",
    "print(\"Hi! My name is\", name, \"and I am\", age, \"years old.\")\n",
    "print(f\"In 2 years, I will be {age+2} years old.\")"
   ]
  },
  {
   "cell_type": "code",
   "execution_count": 8,
   "metadata": {
    "colab": {
     "base_uri": "https://localhost:8080/"
    },
    "id": "HqE2tTzTkGXF",
    "outputId": "8731865b-4627-4ba9-952a-0ef13349457f"
   },
   "outputs": [
    {
     "name": "stdout",
     "output_type": "stream",
     "text": [
      "Access refused. Common Bob, you can come back in 2 years.\n"
     ]
    }
   ],
   "source": [
    "# Please run this cell after running the previous one.\n",
    "# If you want, you can also change the age in the previous cell and re-run it before running this cell.\n",
    "\n",
    "if age > 30:\n",
    "    print(f\"Access granted. Welcome {name}.\")\n",
    "else:\n",
    "    print(f\"Access refused. Common {name}, you can come back in {30-age} years.\")"
   ]
  },
  {
   "cell_type": "code",
   "execution_count": 9,
   "metadata": {
    "colab": {
     "base_uri": "https://localhost:8080/"
    },
    "id": "ZGantmBNkGXF",
    "outputId": "a226ed4b-595b-4ccf-d022-f30a222ba133"
   },
   "outputs": [
    {
     "name": "stdout",
     "output_type": "stream",
     "text": [
      "Welcome Mark\n",
      "Welcome Sara\n",
      "Welcome Ahmad\n",
      "Welcome Johanna\n"
     ]
    }
   ],
   "source": [
    "usernames = [\"Mark\", \"Sara\", \"Ahmad\", \"Johanna\"]\n",
    "\n",
    "for user in usernames:\n",
    "    print(f\"Welcome {user}\")"
   ]
  },
  {
   "cell_type": "code",
   "execution_count": 10,
   "metadata": {
    "colab": {
     "base_uri": "https://localhost:8080/"
    },
    "id": "T2CZ7_GKkGXG",
    "outputId": "c4e7758e-afb6-43de-ea99-a3679c785c7d"
   },
   "outputs": [
    {
     "name": "stdout",
     "output_type": "stream",
     "text": [
      "The double of 0 is 0\n",
      "The double of 1 is 2\n",
      "The double of 2 is 4\n",
      "The double of 3 is 6\n",
      "The double of 4 is 8\n",
      "The double of 5 is 10\n",
      "The double of 6 is 12\n",
      "The double of 7 is 14\n",
      "The double of 8 is 16\n",
      "The double of 9 is 18\n"
     ]
    }
   ],
   "source": [
    "for i in range(0, 10):\n",
    "    print(f\"The double of {i} is {2*i}\")"
   ]
  },
  {
   "cell_type": "markdown",
   "metadata": {
    "id": "HZTxhHppkGXG"
   },
   "source": [
    "# Experimenting with the `print()` function\n",
    "\n",
    "The objective is to become familiar with the print() function. This function simply prints out some text to the screen.\n",
    "\n",
    "First, use the print() function to print the string `Hello, Data Scientists!` to the screen. Use double quotes around the string."
   ]
  },
  {
   "cell_type": "code",
   "execution_count": 11,
   "metadata": {
    "colab": {
     "base_uri": "https://localhost:8080/"
    },
    "id": "e6T7wzyfkGXH",
    "outputId": "b70571df-0834-49fd-9bb7-56ebb5706f3f"
   },
   "outputs": [
    {
     "name": "stdout",
     "output_type": "stream",
     "text": [
      "Hello, Data Scientists!\n"
     ]
    }
   ],
   "source": [
    "print(\"Hello, Data Scientists!\")\n",
    "\n"
   ]
  },
  {
   "cell_type": "markdown",
   "metadata": {
    "id": "StM8hHepkGXH"
   },
   "source": [
    "Now use the print() function again, but this time print your full name."
   ]
  },
  {
   "cell_type": "code",
   "execution_count": 12,
   "metadata": {
    "colab": {
     "base_uri": "https://localhost:8080/"
    },
    "id": "lo-FrKAckGXH",
    "outputId": "cb5f8d98-8a99-486c-f8b0-36362a79ec7f"
   },
   "outputs": [
    {
     "name": "stdout",
     "output_type": "stream",
     "text": [
      "Melek İnci\n"
     ]
    }
   ],
   "source": [
    "print(\"Melek İnci\")\n",
    "\n"
   ]
  },
  {
   "cell_type": "markdown",
   "metadata": {
    "id": "WIima-ZqkGXH"
   },
   "source": [
    "Now remove the double quotes and run your code. Watch Python's reaction and see what kind of error is thrown."
   ]
  },
  {
   "cell_type": "code",
   "execution_count": 13,
   "metadata": {
    "colab": {
     "base_uri": "https://localhost:8080/",
     "height": 140
    },
    "id": "pcO6PpqlkGXI",
    "outputId": "7ab4d88c-2fea-4dbe-c9da-8e17b4d6ac03"
   },
   "outputs": [
    {
     "ename": "SyntaxError",
     "evalue": "ignored",
     "output_type": "error",
     "traceback": [
      "\u001b[0;36m  File \u001b[0;32m\"<ipython-input-13-9f1bba83317e>\"\u001b[0;36m, line \u001b[0;32m1\u001b[0m\n\u001b[0;31m    print(Melek İnci)\u001b[0m\n\u001b[0m          ^\u001b[0m\n\u001b[0;31mSyntaxError\u001b[0m\u001b[0;31m:\u001b[0m invalid syntax. Perhaps you forgot a comma?\n"
     ]
    }
   ],
   "source": [
    "print(Melek İnci)"
   ]
  },
  {
   "cell_type": "markdown",
   "metadata": {
    "id": "-4NGcu9pkGXI"
   },
   "source": [
    "Put back the double quotes and remove the parentheses (leave a whitespace after `print `), then run your code again. See what kind of error is thrown this time."
   ]
  },
  {
   "cell_type": "code",
   "execution_count": 14,
   "metadata": {
    "colab": {
     "base_uri": "https://localhost:8080/",
     "height": 140
    },
    "id": "kDtqLb79kGXI",
    "outputId": "f2f5913a-c3e1-4d35-937c-d3aec987ba22"
   },
   "outputs": [
    {
     "ename": "SyntaxError",
     "evalue": "ignored",
     "output_type": "error",
     "traceback": [
      "\u001b[0;36m  File \u001b[0;32m\"<ipython-input-14-506fbbc5c636>\"\u001b[0;36m, line \u001b[0;32m1\u001b[0m\n\u001b[0;31m    print \"Melek İnci\"\u001b[0m\n\u001b[0m    ^\u001b[0m\n\u001b[0;31mSyntaxError\u001b[0m\u001b[0;31m:\u001b[0m Missing parentheses in call to 'print'. Did you mean print(...)?\n"
     ]
    }
   ],
   "source": [
    "print \"Melek İnci\""
   ]
  },
  {
   "cell_type": "markdown",
   "metadata": {
    "id": "qbfXAWBbkGXI"
   },
   "source": [
    "Experiment as much as you can. For example, change double quotes to single quotes, use multiple print() functions on the same line, and then on different lines. Try an empty `print()` between two lines. See what happens."
   ]
  },
  {
   "cell_type": "code",
   "execution_count": 17,
   "metadata": {
    "colab": {
     "base_uri": "https://localhost:8080/",
     "height": 140
    },
    "id": "rVQPWl0pkGXJ",
    "outputId": "ce4ebdd7-1fc1-4a93-9298-756e8a732283"
   },
   "outputs": [
    {
     "ename": "SyntaxError",
     "evalue": "ignored",
     "output_type": "error",
     "traceback": [
      "\u001b[0;36m  File \u001b[0;32m\"<ipython-input-17-40222b1c93d5>\"\u001b[0;36m, line \u001b[0;32m3\u001b[0m\n\u001b[0;31m    print(\"Melek İnci\")       print('Melek İnci')\u001b[0m\n\u001b[0m                              ^\u001b[0m\n\u001b[0;31mSyntaxError\u001b[0m\u001b[0;31m:\u001b[0m invalid syntax\n"
     ]
    }
   ],
   "source": [
    "print('Melek İnci')\n",
    "print()\n",
    "print(\"Melek İnci\")       print('Melek İnci')"
   ]
  },
  {
   "cell_type": "markdown",
   "metadata": {
    "id": "G9VyudubkGXJ"
   },
   "source": [
    "# Experimenting with the `input()` function\n",
    "When you run this cell, the first line `name = input(\"Please enter your name: \")` will be waiting for you to input something with your keyboard.\n",
    "The * shows that the cell is running, and you can't run other cells while this one is still running.\n",
    "Once you input something and press **ENTER**, the second line `print(\"Hello\", name)` is executed. You can then see that the cell has finished running (no *)"
   ]
  },
  {
   "cell_type": "code",
   "execution_count": 18,
   "metadata": {
    "colab": {
     "base_uri": "https://localhost:8080/"
    },
    "id": "S0tHAqiwkGXJ",
    "outputId": "864b3097-9508-4aac-cb7b-af26aa6a3501"
   },
   "outputs": [
    {
     "name": "stdout",
     "output_type": "stream",
     "text": [
      "Please enter your pseudoname: Melek\n",
      "Hello Melek\n"
     ]
    }
   ],
   "source": [
    "pseudoname = input(\"Please enter your pseudoname: \")\n",
    "print(\"Hello\", pseudoname)"
   ]
  },
  {
   "cell_type": "markdown",
   "metadata": {
    "id": "x_uWzZHOkGXJ"
   },
   "source": [
    "# Showing the line numbers in the code cells\n",
    "In a Jupyter notebook like this one, it can be sometimes useful to show the line numbers (to refer to a specific line of the code). To show or hide the numbers corresponding to lines of your code, you can:\n",
    "- Select the code cell below, click on the command \"*palette button*\" in the top menu (it is shown as a keyboard icon) and search for \"line numbers\" and select \"toggle line numbers\".\n",
    "- Or select the code cell, and press **ESC+L** on your keyboard"
   ]
  },
  {
   "cell_type": "code",
   "execution_count": 19,
   "metadata": {
    "colab": {
     "base_uri": "https://localhost:8080/"
    },
    "id": "7f2296KTkGXJ",
    "outputId": "47d274fc-3270-48f4-dc82-483c0c8dcff1"
   },
   "outputs": [
    {
     "name": "stdout",
     "output_type": "stream",
     "text": [
      "Hello world\n",
      "This is just an example\n",
      "Bye\n",
      "...\n"
     ]
    }
   ],
   "source": [
    "# Here are some simple lines of code\n",
    "print(\"Hello world\")\n",
    "print(\"This is just an example\")\n",
    "print(\"Bye\")\n",
    "print(\"...\")"
   ]
  },
  {
   "cell_type": "markdown",
   "metadata": {
    "id": "1pf5HZLDkGXK"
   },
   "source": [
    "# Restarting the notebook\n",
    "The variables you created previously still exist in memory. For example:"
   ]
  },
  {
   "cell_type": "code",
   "execution_count": 20,
   "metadata": {
    "colab": {
     "base_uri": "https://localhost:8080/"
    },
    "id": "fNlyDiG1kGXK",
    "outputId": "3156f570-cc15-45ca-cbe5-2eb18d2f64ec"
   },
   "outputs": [
    {
     "name": "stdout",
     "output_type": "stream",
     "text": [
      "The variable A is 10\n",
      "The variable B is 4\n",
      "The variable name is Bob\n",
      "The variable age is 28\n",
      "The variable pseudoname is Melek\n",
      "The variable usernames is ['Mark', 'Sara', 'Ahmad', 'Johanna']\n"
     ]
    }
   ],
   "source": [
    "print(\"The variable A is\", A)\n",
    "print(\"The variable B is\", B)\n",
    "print(\"The variable name is\", name)\n",
    "print(\"The variable age is\", age)\n",
    "print(\"The variable pseudoname is\", pseudoname)\n",
    "print(\"The variable usernames is\", usernames)\n"
   ]
  },
  {
   "cell_type": "markdown",
   "metadata": {
    "id": "KxSqQSwfkGXK"
   },
   "source": [
    "When you restart the kernel, you loose all the variables that you had in memory. To check that, restart the kernel (by clicking on \"Kernel\" then \"Restart\" in the menu), and then come back directly here and execute the above cell (without re-executing all the previous ones). You will get a `NameError` because we restarted and we didn't define any value for the variables.\n",
    "\n",
    "You can also try to restart the kernel by clicking on \"Kernel\" then \"Restart & Clear output\" in the menu. This will restart the kernel and erase the previous output displayed for all cells.\n",
    "\n",
    "Once you are finished with everything, you can save with **CTRL+S** (or \"File\" then \"Save&Checkpoint\"), then shutdown the notebook properly by clicking on \"File\" then \"Close & Halt\"."
   ]
  }
 ],
 "metadata": {
  "colab": {
   "provenance": []
  },
  "kernelspec": {
   "display_name": "Python 3 (ipykernel)",
   "language": "python",
   "name": "python3"
  },
  "language_info": {
   "codemirror_mode": {
    "name": "ipython",
    "version": 3
   },
   "file_extension": ".py",
   "mimetype": "text/x-python",
   "name": "python",
   "nbconvert_exporter": "python",
   "pygments_lexer": "ipython3",
   "version": "3.11.5"
  }
 },
 "nbformat": 4,
 "nbformat_minor": 4
}
